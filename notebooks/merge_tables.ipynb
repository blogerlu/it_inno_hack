{
 "cells": [
  {
   "cell_type": "code",
   "id": "initial_id",
   "metadata": {
    "collapsed": true,
    "ExecuteTime": {
     "end_time": "2024-09-29T03:09:24.825681Z",
     "start_time": "2024-09-29T03:09:24.823677Z"
    }
   },
   "source": [
    "TABLE1_PATH = \"../data/public/main1.csv\"\n",
    "TABLE2_PATH = \"../data/public/main2.csv\"\n",
    "TABLE3_PATH = \"../data/public/main3.csv\""
   ],
   "outputs": [],
   "execution_count": 1
  },
  {
   "metadata": {
    "ExecuteTime": {
     "end_time": "2024-09-29T03:09:24.840937Z",
     "start_time": "2024-09-29T03:09:24.826373Z"
    }
   },
   "cell_type": "code",
   "source": [
    "# for path in (TABLE1_PATH, TABLE2_PATH, TABLE3_PATH):\n",
    "#     print(f\"File: {path}\")\n",
    "#     with open(path) as f:\n",
    "#         k = 0\n",
    "#         for line in f:\n",
    "#             if k == 0:\n",
    "#                 print(line)\n",
    "#             k += 1\n",
    "#         print(f\"Total lines: {k}\")\n",
    "#     print()"
   ],
   "id": "86b1b3bda80b552a",
   "outputs": [],
   "execution_count": 2
  },
  {
   "metadata": {
    "ExecuteTime": {
     "end_time": "2024-09-29T03:09:25.242821Z",
     "start_time": "2024-09-29T03:09:24.841542Z"
    }
   },
   "cell_type": "code",
   "source": [
    "import pandas as pd\n",
    "\n",
    "LIMIT_SIZE = 10000\n",
    "table1 = pd.read_csv(TABLE1_PATH, nrows=LIMIT_SIZE)\n",
    "table2 = pd.read_csv(TABLE2_PATH, nrows=LIMIT_SIZE)\n",
    "table3 = pd.read_csv(TABLE3_PATH, nrows=LIMIT_SIZE)\n",
    "\n",
    "table1.to_csv(\"../data/subset_main1.csv\", index=False)\n",
    "table2.to_csv(\"../data/subset_main2.csv\", index=False)\n",
    "table3.to_csv(\"../data/subset_main3.csv\", index=False)"
   ],
   "id": "9ef481e4127a099b",
   "outputs": [],
   "execution_count": 3
  },
  {
   "metadata": {
    "ExecuteTime": {
     "end_time": "2024-09-29T03:09:25.245935Z",
     "start_time": "2024-09-29T03:09:25.243806Z"
    }
   },
   "cell_type": "code",
   "source": [
    "print(f\"Table 1 columns: {list(table1.columns)}\")\n",
    "print(f\"Table 2 columns: {list(table2.columns)}\")\n",
    "print(f\"Table 3 columns: {list(table3.columns)}\")"
   ],
   "id": "57ac92eadd30ec3",
   "outputs": [
    {
     "name": "stdout",
     "output_type": "stream",
     "text": [
      "Table 1 columns: ['uid', 'full_name', 'email', 'address', 'sex', 'birthdate', 'phone']\n",
      "Table 2 columns: ['uid', 'first_name', 'middle_name', 'last_name', 'birthdate', 'phone', 'address']\n",
      "Table 3 columns: ['uid', 'name', 'email', 'birthdate', 'sex']\n"
     ]
    }
   ],
   "execution_count": 4
  },
  {
   "metadata": {
    "ExecuteTime": {
     "end_time": "2024-09-29T03:09:25.248216Z",
     "start_time": "2024-09-29T03:09:25.246525Z"
    }
   },
   "cell_type": "code",
   "source": "total_columns = [\"uid\", \"name\", \"birthdate\", \"phone\", \"address\", \"sex\", \"email\"]",
   "id": "d94b0cf17f108579",
   "outputs": [],
   "execution_count": 5
  },
  {
   "metadata": {
    "ExecuteTime": {
     "end_time": "2024-09-29T03:09:51.874136Z",
     "start_time": "2024-09-29T03:09:51.561596Z"
    }
   },
   "cell_type": "code",
   "source": [
    "from app.processor import Processor\n",
    "\n",
    "# table1[\"name\"] = table1[\"full_name\"]\n",
    "processor = Processor(table3)\n",
    "processor.clean_data()\n",
    "processor.df"
   ],
   "id": "1e548f22a9780802",
   "outputs": [
    {
     "data": {
      "text/plain": [
       "                                       uid                 name  \\\n",
       "0     9185f879-6289-4ad6-9cb0-ed7cb6cb652b   МАМАСАИД ЬАДКИБАЕВ   \n",
       "1     289fcf9e-af05-43cf-a6d4-1d1d3cf5131f          ЮТА ИГИНОВА   \n",
       "2     c2b04755-ebd8-4625-b8bb-4131ca049415      ЗАФЕР МИРОДИЛОВ   \n",
       "3     49978ae8-51fe-4a74-908e-22ec9e693855      ШАХЗОДА БОРОВАЯ   \n",
       "4     75e199c5-86fa-4d3b-b1ea-783ecc26b021    НУРСУЛУ КУРБОНОВА   \n",
       "...                                    ...                  ...   \n",
       "9995  00e8d20c-892d-4a86-95c8-55803cf8eed1       ОЛЬГА СКЛЯРОВА   \n",
       "9996  5b6df51d-a2db-4d1f-909f-9c8377350a5e       ЭДУАРД НАСИРОВ   \n",
       "9997  7b37c848-a237-4947-a929-143bfb588b4f  ИНТИЗОР КОНДРАСХЕВА   \n",
       "9998  f5e48d34-7c6c-4516-a752-b03ec6e6a693       САИДЖОН АНОРОВ   \n",
       "9999  a160eae2-21b2-42c9-a8a1-977286800e7d         ЖАНЫЛСЫН БЕЛ   \n",
       "\n",
       "                    email birthdate sex phone address  \n",
       "0      mamasaid_balkibaev  91450615   m          None  \n",
       "1           jutta_ihinova  19811124   f          None  \n",
       "2         zafer_mirodilov      1954   m          None  \n",
       "3       shahzoda_borovaja  29890715   f          None  \n",
       "4       nursulu_kurbonova  20001021   f          None  \n",
       "...                   ...       ...  ..   ...     ...  \n",
       "9995       olga_skljarova  19611109   f          None  \n",
       "9996       eduard_nasirov  19960107   m          None  \n",
       "9997  intizor_kondrasheva  78911130   f          None  \n",
       "9998      saidzhon_anorov  19860804   m          None  \n",
       "9999       zhanylsyn_bell  30000614   f          None  \n",
       "\n",
       "[10000 rows x 7 columns]"
      ],
      "text/html": [
       "<div>\n",
       "<style scoped>\n",
       "    .dataframe tbody tr th:only-of-type {\n",
       "        vertical-align: middle;\n",
       "    }\n",
       "\n",
       "    .dataframe tbody tr th {\n",
       "        vertical-align: top;\n",
       "    }\n",
       "\n",
       "    .dataframe thead th {\n",
       "        text-align: right;\n",
       "    }\n",
       "</style>\n",
       "<table border=\"1\" class=\"dataframe\">\n",
       "  <thead>\n",
       "    <tr style=\"text-align: right;\">\n",
       "      <th></th>\n",
       "      <th>uid</th>\n",
       "      <th>name</th>\n",
       "      <th>email</th>\n",
       "      <th>birthdate</th>\n",
       "      <th>sex</th>\n",
       "      <th>phone</th>\n",
       "      <th>address</th>\n",
       "    </tr>\n",
       "  </thead>\n",
       "  <tbody>\n",
       "    <tr>\n",
       "      <th>0</th>\n",
       "      <td>9185f879-6289-4ad6-9cb0-ed7cb6cb652b</td>\n",
       "      <td>МАМАСАИД ЬАДКИБАЕВ</td>\n",
       "      <td>mamasaid_balkibaev</td>\n",
       "      <td>91450615</td>\n",
       "      <td>m</td>\n",
       "      <td></td>\n",
       "      <td>None</td>\n",
       "    </tr>\n",
       "    <tr>\n",
       "      <th>1</th>\n",
       "      <td>289fcf9e-af05-43cf-a6d4-1d1d3cf5131f</td>\n",
       "      <td>ЮТА ИГИНОВА</td>\n",
       "      <td>jutta_ihinova</td>\n",
       "      <td>19811124</td>\n",
       "      <td>f</td>\n",
       "      <td></td>\n",
       "      <td>None</td>\n",
       "    </tr>\n",
       "    <tr>\n",
       "      <th>2</th>\n",
       "      <td>c2b04755-ebd8-4625-b8bb-4131ca049415</td>\n",
       "      <td>ЗАФЕР МИРОДИЛОВ</td>\n",
       "      <td>zafer_mirodilov</td>\n",
       "      <td>1954</td>\n",
       "      <td>m</td>\n",
       "      <td></td>\n",
       "      <td>None</td>\n",
       "    </tr>\n",
       "    <tr>\n",
       "      <th>3</th>\n",
       "      <td>49978ae8-51fe-4a74-908e-22ec9e693855</td>\n",
       "      <td>ШАХЗОДА БОРОВАЯ</td>\n",
       "      <td>shahzoda_borovaja</td>\n",
       "      <td>29890715</td>\n",
       "      <td>f</td>\n",
       "      <td></td>\n",
       "      <td>None</td>\n",
       "    </tr>\n",
       "    <tr>\n",
       "      <th>4</th>\n",
       "      <td>75e199c5-86fa-4d3b-b1ea-783ecc26b021</td>\n",
       "      <td>НУРСУЛУ КУРБОНОВА</td>\n",
       "      <td>nursulu_kurbonova</td>\n",
       "      <td>20001021</td>\n",
       "      <td>f</td>\n",
       "      <td></td>\n",
       "      <td>None</td>\n",
       "    </tr>\n",
       "    <tr>\n",
       "      <th>...</th>\n",
       "      <td>...</td>\n",
       "      <td>...</td>\n",
       "      <td>...</td>\n",
       "      <td>...</td>\n",
       "      <td>...</td>\n",
       "      <td>...</td>\n",
       "      <td>...</td>\n",
       "    </tr>\n",
       "    <tr>\n",
       "      <th>9995</th>\n",
       "      <td>00e8d20c-892d-4a86-95c8-55803cf8eed1</td>\n",
       "      <td>ОЛЬГА СКЛЯРОВА</td>\n",
       "      <td>olga_skljarova</td>\n",
       "      <td>19611109</td>\n",
       "      <td>f</td>\n",
       "      <td></td>\n",
       "      <td>None</td>\n",
       "    </tr>\n",
       "    <tr>\n",
       "      <th>9996</th>\n",
       "      <td>5b6df51d-a2db-4d1f-909f-9c8377350a5e</td>\n",
       "      <td>ЭДУАРД НАСИРОВ</td>\n",
       "      <td>eduard_nasirov</td>\n",
       "      <td>19960107</td>\n",
       "      <td>m</td>\n",
       "      <td></td>\n",
       "      <td>None</td>\n",
       "    </tr>\n",
       "    <tr>\n",
       "      <th>9997</th>\n",
       "      <td>7b37c848-a237-4947-a929-143bfb588b4f</td>\n",
       "      <td>ИНТИЗОР КОНДРАСХЕВА</td>\n",
       "      <td>intizor_kondrasheva</td>\n",
       "      <td>78911130</td>\n",
       "      <td>f</td>\n",
       "      <td></td>\n",
       "      <td>None</td>\n",
       "    </tr>\n",
       "    <tr>\n",
       "      <th>9998</th>\n",
       "      <td>f5e48d34-7c6c-4516-a752-b03ec6e6a693</td>\n",
       "      <td>САИДЖОН АНОРОВ</td>\n",
       "      <td>saidzhon_anorov</td>\n",
       "      <td>19860804</td>\n",
       "      <td>m</td>\n",
       "      <td></td>\n",
       "      <td>None</td>\n",
       "    </tr>\n",
       "    <tr>\n",
       "      <th>9999</th>\n",
       "      <td>a160eae2-21b2-42c9-a8a1-977286800e7d</td>\n",
       "      <td>ЖАНЫЛСЫН БЕЛ</td>\n",
       "      <td>zhanylsyn_bell</td>\n",
       "      <td>30000614</td>\n",
       "      <td>f</td>\n",
       "      <td></td>\n",
       "      <td>None</td>\n",
       "    </tr>\n",
       "  </tbody>\n",
       "</table>\n",
       "<p>10000 rows × 7 columns</p>\n",
       "</div>"
      ]
     },
     "execution_count": 8,
     "metadata": {},
     "output_type": "execute_result"
    }
   ],
   "execution_count": 8
  }
 ],
 "metadata": {
  "kernelspec": {
   "display_name": "Python 3",
   "language": "python",
   "name": "python3"
  },
  "language_info": {
   "codemirror_mode": {
    "name": "ipython",
    "version": 2
   },
   "file_extension": ".py",
   "mimetype": "text/x-python",
   "name": "python",
   "nbconvert_exporter": "python",
   "pygments_lexer": "ipython2",
   "version": "2.7.6"
  }
 },
 "nbformat": 4,
 "nbformat_minor": 5
}
