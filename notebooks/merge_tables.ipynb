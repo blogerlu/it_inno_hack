{
 "cells": [
  {
   "cell_type": "code",
   "id": "initial_id",
   "metadata": {
    "collapsed": true,
    "ExecuteTime": {
     "end_time": "2024-09-28T14:31:32.472701Z",
     "start_time": "2024-09-28T14:31:32.194632Z"
    }
   },
   "source": [
    "import os\n",
    "\n",
    "import pandas as pd\n",
    "from tqdm import tqdm\n",
    "\n",
    "DATA_DIR = \"../data/public\"\n",
    "\n",
    "table_names = [f\"main{i}\" for i in range(1, 4)]\n",
    "table_paths = [os.path.join(DATA_DIR, f\"{table_name}.csv\") for table_name in table_names]\n",
    "tables = [pd.read_csv(table_path, nrows=300) for table_path in tqdm(table_paths)]\n",
    "len(tables)"
   ],
   "outputs": [
    {
     "name": "stderr",
     "output_type": "stream",
     "text": [
      "100%|██████████| 3/3 [00:00<00:00, 250.11it/s]\n"
     ]
    },
    {
     "data": {
      "text/plain": [
       "3"
      ]
     },
     "execution_count": 1,
     "metadata": {},
     "output_type": "execute_result"
    }
   ],
   "execution_count": 1
  },
  {
   "metadata": {
    "ExecuteTime": {
     "end_time": "2024-09-28T14:31:32.478958Z",
     "start_time": "2024-09-28T14:31:32.473628Z"
    }
   },
   "cell_type": "code",
   "source": "tables[0].info()",
   "id": "d8e8608ef2aeb31",
   "outputs": [
    {
     "name": "stdout",
     "output_type": "stream",
     "text": [
      "<class 'pandas.core.frame.DataFrame'>\n",
      "RangeIndex: 300 entries, 0 to 299\n",
      "Data columns (total 7 columns):\n",
      " #   Column     Non-Null Count  Dtype \n",
      "---  ------     --------------  ----- \n",
      " 0   uid        300 non-null    object\n",
      " 1   full_name  300 non-null    object\n",
      " 2   email      300 non-null    object\n",
      " 3   address    300 non-null    object\n",
      " 4   sex        300 non-null    object\n",
      " 5   birthdate  300 non-null    object\n",
      " 6   phone      300 non-null    object\n",
      "dtypes: object(7)\n",
      "memory usage: 16.5+ KB\n"
     ]
    }
   ],
   "execution_count": 2
  },
  {
   "metadata": {
    "ExecuteTime": {
     "end_time": "2024-09-28T14:31:32.493598Z",
     "start_time": "2024-09-28T14:31:32.479814Z"
    }
   },
   "cell_type": "code",
   "source": "tables[1].info()",
   "id": "d7297e4ac4bae460",
   "outputs": [
    {
     "name": "stdout",
     "output_type": "stream",
     "text": [
      "<class 'pandas.core.frame.DataFrame'>\n",
      "RangeIndex: 300 entries, 0 to 299\n",
      "Data columns (total 7 columns):\n",
      " #   Column       Non-Null Count  Dtype \n",
      "---  ------       --------------  ----- \n",
      " 0   uid          300 non-null    object\n",
      " 1   first_name   300 non-null    object\n",
      " 2   middle_name  300 non-null    object\n",
      " 3   last_name    300 non-null    object\n",
      " 4   birthdate    300 non-null    object\n",
      " 5   phone        300 non-null    object\n",
      " 6   address      300 non-null    object\n",
      "dtypes: object(7)\n",
      "memory usage: 16.5+ KB\n"
     ]
    }
   ],
   "execution_count": 3
  },
  {
   "metadata": {
    "ExecuteTime": {
     "end_time": "2024-09-28T14:31:32.501835Z",
     "start_time": "2024-09-28T14:31:32.494764Z"
    }
   },
   "cell_type": "code",
   "source": "tables[2].info()",
   "id": "378e788f1789a4be",
   "outputs": [
    {
     "name": "stdout",
     "output_type": "stream",
     "text": [
      "<class 'pandas.core.frame.DataFrame'>\n",
      "RangeIndex: 300 entries, 0 to 299\n",
      "Data columns (total 5 columns):\n",
      " #   Column     Non-Null Count  Dtype \n",
      "---  ------     --------------  ----- \n",
      " 0   uid        300 non-null    object\n",
      " 1   name       300 non-null    object\n",
      " 2   email      300 non-null    object\n",
      " 3   birthdate  300 non-null    object\n",
      " 4   sex        300 non-null    object\n",
      "dtypes: object(5)\n",
      "memory usage: 11.8+ KB\n"
     ]
    }
   ],
   "execution_count": 4
  },
  {
   "metadata": {
    "ExecuteTime": {
     "end_time": "2024-09-28T14:31:32.510606Z",
     "start_time": "2024-09-28T14:31:32.502471Z"
    }
   },
   "cell_type": "code",
   "source": [
    "from app.custom_dataframe import CustomDataFrame\n",
    "\n",
    "df = CustomDataFrame()\n",
    "df.head()"
   ],
   "id": "f5e07edd4c01b281",
   "outputs": [
    {
     "data": {
      "text/plain": [
       "Empty DataFrame\n",
       "Columns: [uid, first_name, middle_name, last_name, birthdate, sex, phone, phone2, address, email, email2, email3]\n",
       "Index: []"
      ],
      "text/html": [
       "<div>\n",
       "<style scoped>\n",
       "    .dataframe tbody tr th:only-of-type {\n",
       "        vertical-align: middle;\n",
       "    }\n",
       "\n",
       "    .dataframe tbody tr th {\n",
       "        vertical-align: top;\n",
       "    }\n",
       "\n",
       "    .dataframe thead th {\n",
       "        text-align: right;\n",
       "    }\n",
       "</style>\n",
       "<table border=\"1\" class=\"dataframe\">\n",
       "  <thead>\n",
       "    <tr style=\"text-align: right;\">\n",
       "      <th></th>\n",
       "      <th>uid</th>\n",
       "      <th>first_name</th>\n",
       "      <th>middle_name</th>\n",
       "      <th>last_name</th>\n",
       "      <th>birthdate</th>\n",
       "      <th>sex</th>\n",
       "      <th>phone</th>\n",
       "      <th>phone2</th>\n",
       "      <th>address</th>\n",
       "      <th>email</th>\n",
       "      <th>email2</th>\n",
       "      <th>email3</th>\n",
       "    </tr>\n",
       "  </thead>\n",
       "  <tbody>\n",
       "  </tbody>\n",
       "</table>\n",
       "</div>"
      ]
     },
     "execution_count": 5,
     "metadata": {},
     "output_type": "execute_result"
    }
   ],
   "execution_count": 5
  },
  {
   "metadata": {
    "ExecuteTime": {
     "end_time": "2024-09-28T14:31:34.493060Z",
     "start_time": "2024-09-28T14:31:32.511267Z"
    }
   },
   "cell_type": "code",
   "source": [
    "duplicates = []\n",
    "\n",
    "for table_num, table in enumerate(tables):\n",
    "    for index in tqdm(range(len(table))):\n",
    "        row = table.iloc[index]\n",
    "        response = df.register_row(row)\n",
    "        if len(response[\"duplicates\"]) != 0:\n",
    "            duplicates.append((table_num, index))"
   ],
   "id": "18f2e76efdcb2b0a",
   "outputs": [
    {
     "name": "stderr",
     "output_type": "stream",
     "text": [
      " 40%|████      | 120/300 [00:00<00:00, 311.00it/s]"
     ]
    },
    {
     "name": "stdout",
     "output_type": "stream",
     "text": [
      "['caae5eb5-25f5-45e9-94c4-5d590403215f', nan, nan, nan, '1950-12-20', 'f', '8 (938) 993-3411', nan, 'д. Ижевск, пр. Вавилова, д. 5/9 стр. 837, 246305', 'muratbekkyzy_tuleshova42@example.ru', nan, nan] ['72f95ce3-93cc-4f2b-9cd9-6b6561582541', 'TULEShOVA МУРАТБЕККЫЗЫ РОДРИГКС', 'muratbekkyzy_tuleshova42@example.ru', ' пр. Вавилова,д. Ижевск, д. 5/9 стр. 837, 246305', 'f', '2950-01-01', '8 938 993-3411']\n",
      "['b51882ca-1a9e-4267-9370-9e752ba8f034', nan, nan, nan, '1994-08-17', 'm', '+7 677 952 0661', nan, 'г. Апшеронск, пер. Депутатский, д. 8/2 стр. 99, 094307', 'husniddin_kuklitskij50@example.com', nan, nan] ['f8b0e8e1-6c4c-432c-9011-6ac4e8cd492a', 'ЕЦКЛИЦКИФ ЗУСНИДДИН БО.С', 'husniddin_kuklitskij50example.com', ' пер. Депутатский,г. Апшеронск, д. 8/2 стр. 99, 094307', 'm', '1994', '+7 677 952 0661']\n",
      "['0bc69513-04cd-473d-a147-bbe32043c8d5', nan, nan, nan, '1991-01-01', 'm', '+72185976770', nan, 'д. Усмань, наб. Новостройка, д. 15 к. 80, 424432', 'karmine_maevwkij85@example.org', nan, nan] ['d404143a-2876-41c7-8c01-f55b40529ee7', 'МАЕВСКИЙ Огли КАРМИНЕ ФАЙЗИЛЛАЕВИЧ', 'karmine_maevskij85@example', ' н\\nб. Новостройка,\\nд. 15 к. 80, 424432', 'm', '1991-12-05', '+72185976770']\n",
      "['a4bb980a-003a-4afe-8136-168422cad5eb', nan, nan, nan, '1945-03-05', 'f', '+8 (107) 511-46-91', nan, 'п. Пушкино (Моск.), пер. Семашко, д. 441, 583041', 'luiza_movsisjan124@example.org', nan, nan] ['dbbb214f-b5f4-4009-94f4-f4d91e261951', 'MOВСИСЯН Oгли ЛУИЗА ВИЛА', 'luiza_movsisjan124@example.org', ' пер. Семашко,п. Пушкино (Моск.), д. 441, 583041', 'f', '45-03-05', '+7 104 512-46-91']\n"
     ]
    },
    {
     "name": "stderr",
     "output_type": "stream",
     "text": [
      " 70%|██████▉   | 209/300 [00:01<00:00, 157.82it/s]"
     ]
    },
    {
     "name": "stdout",
     "output_type": "stream",
     "text": [
      "['d2256b69-7d1b-4b63-95e3-9eac95117f98', nan, nan, nan, '1950-09-05', 'm', '+75666995336', nan, 'ст. Егорьевск, алл. Поселковая, Дом 715 Квартира 475, 527650', 'dzhon_hidirov206@yandex.ru', nan, nan] ['4bd7b096-0460-4dfb-84ab-3cb7a41a77de', 'ХИДИРОВ ДЖОН АСЫЛБЕКОВИЧ  АСЫЛБЕКОВИЧ', 'dzhon_hidirov206@yandex.ru', 'ст. Егорьевск, алл. Посел\\nовая, Дом 715 Квартира 475, 527650', 'm', '1950-09-05', '6995336']\n"
     ]
    },
    {
     "name": "stderr",
     "output_type": "stream",
     "text": [
      " 75%|███████▍  | 224/300 [00:01<00:00, 184.74it/s]\n"
     ]
    },
    {
     "ename": "KeyboardInterrupt",
     "evalue": "",
     "output_type": "error",
     "traceback": [
      "\u001B[0;31m---------------------------------------------------------------------------\u001B[0m",
      "\u001B[0;31mKeyboardInterrupt\u001B[0m                         Traceback (most recent call last)",
      "Cell \u001B[0;32mIn[6], line 6\u001B[0m\n\u001B[1;32m      4\u001B[0m \u001B[38;5;28;01mfor\u001B[39;00m index \u001B[38;5;129;01min\u001B[39;00m tqdm(\u001B[38;5;28mrange\u001B[39m(\u001B[38;5;28mlen\u001B[39m(table))):\n\u001B[1;32m      5\u001B[0m     row \u001B[38;5;241m=\u001B[39m table\u001B[38;5;241m.\u001B[39miloc[index]\n\u001B[0;32m----> 6\u001B[0m     response \u001B[38;5;241m=\u001B[39m \u001B[43mdf\u001B[49m\u001B[38;5;241;43m.\u001B[39;49m\u001B[43mregister_row\u001B[49m\u001B[43m(\u001B[49m\u001B[43mrow\u001B[49m\u001B[43m)\u001B[49m\n\u001B[1;32m      7\u001B[0m     \u001B[38;5;28;01mif\u001B[39;00m \u001B[38;5;28mlen\u001B[39m(response[\u001B[38;5;124m\"\u001B[39m\u001B[38;5;124mduplicates\u001B[39m\u001B[38;5;124m\"\u001B[39m]) \u001B[38;5;241m!=\u001B[39m \u001B[38;5;241m0\u001B[39m:\n\u001B[1;32m      8\u001B[0m         duplicates\u001B[38;5;241m.\u001B[39mappend((table_num, index))\n",
      "File \u001B[0;32m~/PycharmProjects/it_inno_hack/app/custom_dataframe.py:71\u001B[0m, in \u001B[0;36mCustomDataFrame.register_row\u001B[0;34m(self, row)\u001B[0m\n\u001B[1;32m     69\u001B[0m \u001B[38;5;28;01mdef\u001B[39;00m \u001B[38;5;21mregister_row\u001B[39m(\u001B[38;5;28mself\u001B[39m, row: pd\u001B[38;5;241m.\u001B[39mSeries) \u001B[38;5;241m-\u001B[39m\u001B[38;5;241m>\u001B[39m Dict[\u001B[38;5;28mstr\u001B[39m, Any]:\n\u001B[1;32m     70\u001B[0m \u001B[38;5;250m    \u001B[39m\u001B[38;5;124;03m\"\"\"Register row in the dataframe. Return uid and list of duplicates.\"\"\"\u001B[39;00m\n\u001B[0;32m---> 71\u001B[0m     duplicates \u001B[38;5;241m=\u001B[39m \u001B[38;5;28;43mself\u001B[39;49m\u001B[38;5;241;43m.\u001B[39;49m\u001B[43mget_duplicates\u001B[49m\u001B[43m(\u001B[49m\u001B[43mrow\u001B[49m\u001B[43m)\u001B[49m\n\u001B[1;32m     73\u001B[0m     \u001B[38;5;28;01mif\u001B[39;00m \u001B[38;5;28mlen\u001B[39m(duplicates) \u001B[38;5;241m==\u001B[39m \u001B[38;5;241m0\u001B[39m:\n\u001B[1;32m     74\u001B[0m         new_uid \u001B[38;5;241m=\u001B[39m \u001B[38;5;28mself\u001B[39m\u001B[38;5;241m.\u001B[39madd_row(row)\n",
      "File \u001B[0;32m~/PycharmProjects/it_inno_hack/app/custom_dataframe.py:95\u001B[0m, in \u001B[0;36mCustomDataFrame.get_duplicates\u001B[0;34m(self, row)\u001B[0m\n\u001B[1;32m     93\u001B[0m duplicates \u001B[38;5;241m=\u001B[39m []\n\u001B[1;32m     94\u001B[0m \u001B[38;5;28;01mfor\u001B[39;00m index \u001B[38;5;129;01min\u001B[39;00m \u001B[38;5;28mself\u001B[39m\u001B[38;5;241m.\u001B[39mindex:\n\u001B[0;32m---> 95\u001B[0m     row0 \u001B[38;5;241m=\u001B[39m \u001B[38;5;28;43mself\u001B[39;49m\u001B[38;5;241;43m.\u001B[39;49m\u001B[43mloc\u001B[49m\u001B[43m[\u001B[49m\u001B[43mindex\u001B[49m\u001B[43m]\u001B[49m\n\u001B[1;32m     96\u001B[0m     similarity \u001B[38;5;241m=\u001B[39m \u001B[38;5;28mself\u001B[39m\u001B[38;5;241m.\u001B[39msimilarity(row0, row)\n\u001B[1;32m     97\u001B[0m     \u001B[38;5;28;01mif\u001B[39;00m similarity \u001B[38;5;241m>\u001B[39m \u001B[38;5;28mself\u001B[39m\u001B[38;5;241m.\u001B[39mSIMILARITY_THRESHOLD:\n",
      "File \u001B[0;32m~/PycharmProjects/it_inno_hack/.venv/lib/python3.12/site-packages/pandas/core/indexing.py:1191\u001B[0m, in \u001B[0;36m_LocationIndexer.__getitem__\u001B[0;34m(self, key)\u001B[0m\n\u001B[1;32m   1189\u001B[0m maybe_callable \u001B[38;5;241m=\u001B[39m com\u001B[38;5;241m.\u001B[39mapply_if_callable(key, \u001B[38;5;28mself\u001B[39m\u001B[38;5;241m.\u001B[39mobj)\n\u001B[1;32m   1190\u001B[0m maybe_callable \u001B[38;5;241m=\u001B[39m \u001B[38;5;28mself\u001B[39m\u001B[38;5;241m.\u001B[39m_check_deprecated_callable_usage(key, maybe_callable)\n\u001B[0;32m-> 1191\u001B[0m \u001B[38;5;28;01mreturn\u001B[39;00m \u001B[38;5;28;43mself\u001B[39;49m\u001B[38;5;241;43m.\u001B[39;49m\u001B[43m_getitem_axis\u001B[49m\u001B[43m(\u001B[49m\u001B[43mmaybe_callable\u001B[49m\u001B[43m,\u001B[49m\u001B[43m \u001B[49m\u001B[43maxis\u001B[49m\u001B[38;5;241;43m=\u001B[39;49m\u001B[43maxis\u001B[49m\u001B[43m)\u001B[49m\n",
      "File \u001B[0;32m~/PycharmProjects/it_inno_hack/.venv/lib/python3.12/site-packages/pandas/core/indexing.py:1431\u001B[0m, in \u001B[0;36m_LocIndexer._getitem_axis\u001B[0;34m(self, key, axis)\u001B[0m\n\u001B[1;32m   1429\u001B[0m \u001B[38;5;66;03m# fall thru to straight lookup\u001B[39;00m\n\u001B[1;32m   1430\u001B[0m \u001B[38;5;28mself\u001B[39m\u001B[38;5;241m.\u001B[39m_validate_key(key, axis)\n\u001B[0;32m-> 1431\u001B[0m \u001B[38;5;28;01mreturn\u001B[39;00m \u001B[38;5;28;43mself\u001B[39;49m\u001B[38;5;241;43m.\u001B[39;49m\u001B[43m_get_label\u001B[49m\u001B[43m(\u001B[49m\u001B[43mkey\u001B[49m\u001B[43m,\u001B[49m\u001B[43m \u001B[49m\u001B[43maxis\u001B[49m\u001B[38;5;241;43m=\u001B[39;49m\u001B[43maxis\u001B[49m\u001B[43m)\u001B[49m\n",
      "File \u001B[0;32m~/PycharmProjects/it_inno_hack/.venv/lib/python3.12/site-packages/pandas/core/indexing.py:1381\u001B[0m, in \u001B[0;36m_LocIndexer._get_label\u001B[0;34m(self, label, axis)\u001B[0m\n\u001B[1;32m   1379\u001B[0m \u001B[38;5;28;01mdef\u001B[39;00m \u001B[38;5;21m_get_label\u001B[39m(\u001B[38;5;28mself\u001B[39m, label, axis: AxisInt):\n\u001B[1;32m   1380\u001B[0m     \u001B[38;5;66;03m# GH#5567 this will fail if the label is not present in the axis.\u001B[39;00m\n\u001B[0;32m-> 1381\u001B[0m     \u001B[38;5;28;01mreturn\u001B[39;00m \u001B[38;5;28;43mself\u001B[39;49m\u001B[38;5;241;43m.\u001B[39;49m\u001B[43mobj\u001B[49m\u001B[38;5;241;43m.\u001B[39;49m\u001B[43mxs\u001B[49m\u001B[43m(\u001B[49m\u001B[43mlabel\u001B[49m\u001B[43m,\u001B[49m\u001B[43m \u001B[49m\u001B[43maxis\u001B[49m\u001B[38;5;241;43m=\u001B[39;49m\u001B[43maxis\u001B[49m\u001B[43m)\u001B[49m\n",
      "File \u001B[0;32m~/PycharmProjects/it_inno_hack/.venv/lib/python3.12/site-packages/pandas/core/generic.py:4323\u001B[0m, in \u001B[0;36mNDFrame.xs\u001B[0;34m(self, key, axis, level, drop_level)\u001B[0m\n\u001B[1;32m   4319\u001B[0m     \u001B[38;5;28;01mreturn\u001B[39;00m \u001B[38;5;28mself\u001B[39m\u001B[38;5;241m.\u001B[39m_values[loc]\n\u001B[1;32m   4321\u001B[0m new_mgr \u001B[38;5;241m=\u001B[39m \u001B[38;5;28mself\u001B[39m\u001B[38;5;241m.\u001B[39m_mgr\u001B[38;5;241m.\u001B[39mfast_xs(loc)\n\u001B[0;32m-> 4323\u001B[0m result \u001B[38;5;241m=\u001B[39m \u001B[38;5;28;43mself\u001B[39;49m\u001B[38;5;241;43m.\u001B[39;49m\u001B[43m_constructor_sliced_from_mgr\u001B[49m\u001B[43m(\u001B[49m\u001B[43mnew_mgr\u001B[49m\u001B[43m,\u001B[49m\u001B[43m \u001B[49m\u001B[43maxes\u001B[49m\u001B[38;5;241;43m=\u001B[39;49m\u001B[43mnew_mgr\u001B[49m\u001B[38;5;241;43m.\u001B[39;49m\u001B[43maxes\u001B[49m\u001B[43m)\u001B[49m\n\u001B[1;32m   4324\u001B[0m result\u001B[38;5;241m.\u001B[39m_name \u001B[38;5;241m=\u001B[39m \u001B[38;5;28mself\u001B[39m\u001B[38;5;241m.\u001B[39mindex[loc]\n\u001B[1;32m   4325\u001B[0m result \u001B[38;5;241m=\u001B[39m result\u001B[38;5;241m.\u001B[39m__finalize__(\u001B[38;5;28mself\u001B[39m)\n",
      "File \u001B[0;32m~/PycharmProjects/it_inno_hack/.venv/lib/python3.12/site-packages/pandas/core/frame.py:689\u001B[0m, in \u001B[0;36mDataFrame._constructor_sliced_from_mgr\u001B[0;34m(self, mgr, axes)\u001B[0m\n\u001B[1;32m    685\u001B[0m     \u001B[38;5;28;01mreturn\u001B[39;00m ser\n\u001B[1;32m    687\u001B[0m \u001B[38;5;66;03m# We assume that the subclass __init__ knows how to handle a\u001B[39;00m\n\u001B[1;32m    688\u001B[0m \u001B[38;5;66;03m#  pd.Series object.\u001B[39;00m\n\u001B[0;32m--> 689\u001B[0m \u001B[38;5;28;01mreturn\u001B[39;00m \u001B[38;5;28;43mself\u001B[39;49m\u001B[38;5;241;43m.\u001B[39;49m\u001B[43m_constructor_sliced\u001B[49m\u001B[43m(\u001B[49m\u001B[43mser\u001B[49m\u001B[43m)\u001B[49m\n",
      "File \u001B[0;32m~/PycharmProjects/it_inno_hack/.venv/lib/python3.12/site-packages/pandas/core/series.py:574\u001B[0m, in \u001B[0;36mSeries.__init__\u001B[0;34m(self, data, index, dtype, name, copy, fastpath)\u001B[0m\n\u001B[1;32m    572\u001B[0m         data \u001B[38;5;241m=\u001B[39m [data]\n\u001B[1;32m    573\u001B[0m     index \u001B[38;5;241m=\u001B[39m default_index(\u001B[38;5;28mlen\u001B[39m(data))\n\u001B[0;32m--> 574\u001B[0m \u001B[38;5;28;01melif\u001B[39;00m \u001B[43mis_list_like\u001B[49m\u001B[43m(\u001B[49m\u001B[43mdata\u001B[49m\u001B[43m)\u001B[49m:\n\u001B[1;32m    575\u001B[0m     com\u001B[38;5;241m.\u001B[39mrequire_length_match(data, index)\n\u001B[1;32m    577\u001B[0m \u001B[38;5;66;03m# create/copy the manager\u001B[39;00m\n",
      "\u001B[0;31mKeyboardInterrupt\u001B[0m: "
     ]
    }
   ],
   "execution_count": 6
  },
  {
   "metadata": {},
   "cell_type": "code",
   "source": "result_df = pd.DataFrame(columns=[\"uid\", \"uid1\", \"uid2\", \"uid3\"])",
   "id": "40ea2332d3e3e1c8",
   "outputs": [],
   "execution_count": null
  },
  {
   "metadata": {},
   "cell_type": "code",
   "source": "",
   "id": "52aca5311ac549ee",
   "outputs": [],
   "execution_count": null
  }
 ],
 "metadata": {
  "kernelspec": {
   "display_name": "Python 3",
   "language": "python",
   "name": "python3"
  },
  "language_info": {
   "codemirror_mode": {
    "name": "ipython",
    "version": 2
   },
   "file_extension": ".py",
   "mimetype": "text/x-python",
   "name": "python",
   "nbconvert_exporter": "python",
   "pygments_lexer": "ipython2",
   "version": "2.7.6"
  }
 },
 "nbformat": 4,
 "nbformat_minor": 5
}
