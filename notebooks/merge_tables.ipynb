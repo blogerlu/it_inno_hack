{
 "cells": [
  {
   "cell_type": "code",
   "id": "initial_id",
   "metadata": {
    "collapsed": true,
    "ExecuteTime": {
     "end_time": "2024-09-28T11:08:54.110422Z",
     "start_time": "2024-09-28T11:07:30.250394Z"
    }
   },
   "source": [
    "import os\n",
    "\n",
    "import pandas as pd\n",
    "\n",
    "DATA_DIR = \"../data/public\"\n",
    "\n",
    "table_names = [f\"main{i}\" for i in range(1, 4)]\n",
    "table_paths = [os.path.join(DATA_DIR, f\"{table_name}.csv\") for table_name in table_names]\n",
    "tables = [pd.read_csv(table_path) for table_path in table_paths]\n",
    "len(tables)"
   ],
   "outputs": [
    {
     "data": {
      "text/plain": [
       "3"
      ]
     },
     "execution_count": 1,
     "metadata": {},
     "output_type": "execute_result"
    }
   ],
   "execution_count": 1
  },
  {
   "metadata": {
    "ExecuteTime": {
     "end_time": "2024-09-28T11:08:57.571612Z",
     "start_time": "2024-09-28T11:08:57.566110Z"
    }
   },
   "cell_type": "code",
   "source": "tables[0].info()",
   "id": "d8e8608ef2aeb31",
   "outputs": [
    {
     "name": "stdout",
     "output_type": "stream",
     "text": [
      "<class 'pandas.core.frame.DataFrame'>\n",
      "RangeIndex: 8639816 entries, 0 to 8639815\n",
      "Data columns (total 7 columns):\n",
      " #   Column     Dtype \n",
      "---  ------     ----- \n",
      " 0   uid        object\n",
      " 1   full_name  object\n",
      " 2   email      object\n",
      " 3   address    object\n",
      " 4   sex        object\n",
      " 5   birthdate  object\n",
      " 6   phone      object\n",
      "dtypes: object(7)\n",
      "memory usage: 461.4+ MB\n"
     ]
    }
   ],
   "execution_count": 2
  },
  {
   "metadata": {
    "ExecuteTime": {
     "end_time": "2024-09-28T11:08:58.106036Z",
     "start_time": "2024-09-28T11:08:58.100598Z"
    }
   },
   "cell_type": "code",
   "source": "tables[1].info()",
   "id": "d7297e4ac4bae460",
   "outputs": [
    {
     "name": "stdout",
     "output_type": "stream",
     "text": [
      "<class 'pandas.core.frame.DataFrame'>\n",
      "RangeIndex: 9366907 entries, 0 to 9366906\n",
      "Data columns (total 7 columns):\n",
      " #   Column       Dtype \n",
      "---  ------       ----- \n",
      " 0   uid          object\n",
      " 1   first_name   object\n",
      " 2   middle_name  object\n",
      " 3   last_name    object\n",
      " 4   birthdate    object\n",
      " 5   phone        object\n",
      " 6   address      object\n",
      "dtypes: object(7)\n",
      "memory usage: 500.2+ MB\n"
     ]
    }
   ],
   "execution_count": 3
  },
  {
   "metadata": {
    "ExecuteTime": {
     "end_time": "2024-09-28T11:08:58.653320Z",
     "start_time": "2024-09-28T11:08:58.648828Z"
    }
   },
   "cell_type": "code",
   "source": "tables[2].info()",
   "id": "378e788f1789a4be",
   "outputs": [
    {
     "name": "stdout",
     "output_type": "stream",
     "text": [
      "<class 'pandas.core.frame.DataFrame'>\n",
      "RangeIndex: 10134448 entries, 0 to 10134447\n",
      "Data columns (total 5 columns):\n",
      " #   Column     Dtype \n",
      "---  ------     ----- \n",
      " 0   uid        object\n",
      " 1   name       object\n",
      " 2   email      object\n",
      " 3   birthdate  object\n",
      " 4   sex        object\n",
      "dtypes: object(5)\n",
      "memory usage: 386.6+ MB\n"
     ]
    }
   ],
   "execution_count": 4
  },
  {
   "metadata": {
    "ExecuteTime": {
     "end_time": "2024-09-28T11:15:09.662072Z",
     "start_time": "2024-09-28T11:15:09.657689Z"
    }
   },
   "cell_type": "code",
   "source": [
    "COLUMNS = [\n",
    "    \"uid\",\n",
    "    \"first_name\",\n",
    "    \"middle_name\",\n",
    "    \"last_name\",\n",
    "    \"birthdate\",\n",
    "    \"sex\",\n",
    "    \"phone1\",  # старый и новый телефоны\n",
    "    \"phone2\",\n",
    "    \"address\",\n",
    "    \"email1\",  # множественный email\n",
    "    \"email2\",\n",
    "    \"email3\",\n",
    "]\n",
    "\n",
    "main_df = pd.DataFrame(columns=COLUMNS)"
   ],
   "id": "f5e07edd4c01b281",
   "outputs": [
    {
     "data": {
      "text/plain": [
       "'16b6cdb6-e9b0-4d1b-8d56-0d30533199a8'"
      ]
     },
     "execution_count": 15,
     "metadata": {},
     "output_type": "execute_result"
    }
   ],
   "execution_count": 15
  }
 ],
 "metadata": {
  "kernelspec": {
   "display_name": "Python 3",
   "language": "python",
   "name": "python3"
  },
  "language_info": {
   "codemirror_mode": {
    "name": "ipython",
    "version": 2
   },
   "file_extension": ".py",
   "mimetype": "text/x-python",
   "name": "python",
   "nbconvert_exporter": "python",
   "pygments_lexer": "ipython2",
   "version": "2.7.6"
  }
 },
 "nbformat": 4,
 "nbformat_minor": 5
}
