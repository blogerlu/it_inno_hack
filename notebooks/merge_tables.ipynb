{
 "cells": [
  {
   "cell_type": "code",
   "id": "initial_id",
   "metadata": {
    "collapsed": true,
    "ExecuteTime": {
     "end_time": "2024-09-28T21:56:47.558212Z",
     "start_time": "2024-09-28T21:56:47.555116Z"
    }
   },
   "source": [
    "TABLE1_PATH = \"../data/public/main1.csv\"\n",
    "TABLE2_PATH = \"../data/public/main2.csv\"\n",
    "TABLE3_PATH = \"../data/public/main3.csv\""
   ],
   "outputs": [],
   "execution_count": 24
  },
  {
   "metadata": {
    "ExecuteTime": {
     "end_time": "2024-09-28T22:17:18.268003Z",
     "start_time": "2024-09-28T22:17:18.095138Z"
    }
   },
   "cell_type": "code",
   "source": [
    "import pandas as pd\n",
    "\n",
    "LIMIT_SIZE = 10000\n",
    "table1 = pd.read_csv(TABLE1_PATH, nrows=LIMIT_SIZE)\n",
    "table2 = pd.read_csv(TABLE2_PATH, nrows=LIMIT_SIZE)\n",
    "table3 = pd.read_csv(TABLE3_PATH, nrows=LIMIT_SIZE)\n",
    "\n",
    "table1.to_csv(\"../data/subset_main1.csv\", index=False)\n",
    "table2.to_csv(\"../data/subset_main2.csv\", index=False)\n",
    "table3.to_csv(\"../data/subset_main3.csv\", index=False)"
   ],
   "id": "9ef481e4127a099b",
   "outputs": [],
   "execution_count": 42
  },
  {
   "metadata": {
    "ExecuteTime": {
     "end_time": "2024-09-28T21:58:20.158785Z",
     "start_time": "2024-09-28T21:58:20.155960Z"
    }
   },
   "cell_type": "code",
   "source": [
    "print(f\"Table 1 columns: {list(table1.columns)}\")\n",
    "print(f\"Table 2 columns: {list(table2.columns)}\")\n",
    "print(f\"Table 3 columns: {list(table3.columns)}\")"
   ],
   "id": "57ac92eadd30ec3",
   "outputs": [
    {
     "name": "stdout",
     "output_type": "stream",
     "text": [
      "Table 1 columns: ['uid', 'full_name', 'email', 'address', 'sex', 'birthdate', 'phone']\n",
      "Table 2 columns: ['uid', 'first_name', 'middle_name', 'last_name', 'birthdate', 'phone', 'address']\n",
      "Table 3 columns: ['uid', 'name', 'email', 'birthdate', 'sex']\n"
     ]
    }
   ],
   "execution_count": 31
  },
  {
   "metadata": {
    "ExecuteTime": {
     "end_time": "2024-09-28T21:59:23.576011Z",
     "start_time": "2024-09-28T21:59:23.573878Z"
    }
   },
   "cell_type": "code",
   "source": "total_columns = [\"uid\", \"name\", \"birthdate\", \"phone\", \"address\", \"sex\", \"email\"]",
   "id": "d94b0cf17f108579",
   "outputs": [],
   "execution_count": 32
  },
  {
   "metadata": {
    "ExecuteTime": {
     "end_time": "2024-09-28T22:06:05.116457Z",
     "start_time": "2024-09-28T22:06:05.024152Z"
    }
   },
   "cell_type": "code",
   "source": [
    "import mapply\n",
    "\n",
    "mapply.init(\n",
    "    n_workers=-1,\n",
    "    chunk_size=100,\n",
    "    max_chunks_per_worker=8,\n",
    "    progressbar=False,\n",
    ")"
   ],
   "id": "e89629323d229183",
   "outputs": [],
   "execution_count": 36
  },
  {
   "metadata": {},
   "cell_type": "code",
   "outputs": [],
   "execution_count": null,
   "source": [
    "import recordlinkage\n",
    "\n",
    "indexer = recordlinkage.Index()\n",
    "indexer.block(\"surname\")\n",
    "candidate_links = indexer.index(table1, table2)"
   ],
   "id": "bb50c15cbb1c48e5"
  },
  {
   "metadata": {},
   "cell_type": "code",
   "outputs": [],
   "execution_count": null,
   "source": [
    "c = recordlinkage.Compare()\n",
    "\n",
    "c.string(\"name_a\", \"name_b\", method=\"jarowinkler\", threshold=0.85)\n",
    "c.exact(\"sex\", \"gender\")\n",
    "c.date(\"dob\", \"date_of_birth\")\n",
    "c.string(\"str_name\", \"streetname\", method=\"damerau_levenshtein\", threshold=0.7)\n",
    "c.exact(\"place\", \"placename\")\n",
    "c.numeric(\"income\", \"income\", method=\"gauss\", offset=3, scale=3, missing_value=0.5)\n",
    "\n",
    "# The comparison vectors\n",
    "feature_vectors = c.compute(candidate_links, df_a, df_b)"
   ],
   "id": "2578b74ddd6a8d6f"
  },
  {
   "metadata": {},
   "cell_type": "code",
   "outputs": [],
   "execution_count": null,
   "source": [
    "import numpy as np\n",
    "import matplotlib.pyplot as plt\n",
    "from sklearn.datasets import make_blobs\n",
    "from sklearn.cluster import MiniBatchKMeans\n",
    "import time\n",
    "\n",
    "# Генерация синтетических данных\n",
    "n_samples = 40000000  # 1 миллион записей\n",
    "n_features = 50  # Две признака\n",
    "n_clusters = 100  # Количество кластеров\n",
    "\n",
    "# Генерация данных с помощью make_blobs\n",
    "X, _ = make_blobs(n_samples=n_samples, centers=n_clusters, cluster_std=0.60, random_state=0)\n",
    "\n",
    "# Применение MiniBatch K-means\n",
    "batch_size = 10000  # Размер батча\n",
    "kmeans = MiniBatchKMeans(n_clusters=n_clusters, batch_size=batch_size)\n",
    "\n",
    "# Подсчет времени работы\n",
    "start_time = time.time()\n",
    "\n",
    "# Обучение модели\n",
    "kmeans.fit(X)\n",
    "\n",
    "# Получение предсказаний кластеров\n",
    "labels = kmeans.predict(X)\n",
    "\n",
    "# Подсчет времени выполнения\n",
    "end_time = time.time()\n",
    "execution_time = end_time - start_time\n",
    "print(f\"Время работы MiniBatch K-means: {execution_time:.2f} секунд\")"
   ],
   "id": "668d1e9b76f639c6"
  }
 ],
 "metadata": {
  "kernelspec": {
   "display_name": "Python 3",
   "language": "python",
   "name": "python3"
  },
  "language_info": {
   "codemirror_mode": {
    "name": "ipython",
    "version": 2
   },
   "file_extension": ".py",
   "mimetype": "text/x-python",
   "name": "python",
   "nbconvert_exporter": "python",
   "pygments_lexer": "ipython2",
   "version": "2.7.6"
  }
 },
 "nbformat": 4,
 "nbformat_minor": 5
}
