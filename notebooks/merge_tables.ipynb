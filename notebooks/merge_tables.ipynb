{
 "cells": [
  {
   "cell_type": "code",
   "id": "initial_id",
   "metadata": {
    "collapsed": true,
    "ExecuteTime": {
     "end_time": "2024-09-29T07:45:22.594442Z",
     "start_time": "2024-09-29T07:45:22.592379Z"
    }
   },
   "source": [
    "TABLE1_PATH = \"../data/public/main1.csv\"\n",
    "TABLE2_PATH = \"../data/public/main2.csv\"\n",
    "TABLE3_PATH = \"../data/public/main3.csv\""
   ],
   "outputs": [],
   "execution_count": 1
  },
  {
   "metadata": {
    "ExecuteTime": {
     "end_time": "2024-09-29T07:45:22.607594Z",
     "start_time": "2024-09-29T07:45:22.595184Z"
    }
   },
   "cell_type": "code",
   "source": [
    "# for path in (TABLE1_PATH, TABLE2_PATH, TABLE3_PATH):\n",
    "#     print(f\"File: {path}\")\n",
    "#     with open(path) as f:\n",
    "#         k = 0\n",
    "#         for line in f:\n",
    "#             if k == 0:\n",
    "#                 print(line)\n",
    "#             k += 1\n",
    "#         print(f\"Total lines: {k}\")\n",
    "#     print()"
   ],
   "id": "86b1b3bda80b552a",
   "outputs": [],
   "execution_count": 2
  },
  {
   "metadata": {
    "ExecuteTime": {
     "end_time": "2024-09-29T07:45:24.701499Z",
     "start_time": "2024-09-29T07:45:22.608731Z"
    }
   },
   "cell_type": "code",
   "source": [
    "import pandas as pd\n",
    "\n",
    "LIMIT_SIZE = 100000\n",
    "table1 = pd.read_csv(TABLE1_PATH, nrows=LIMIT_SIZE)\n",
    "table2 = pd.read_csv(TABLE2_PATH, nrows=LIMIT_SIZE)\n",
    "table3 = pd.read_csv(TABLE3_PATH, nrows=LIMIT_SIZE)\n",
    "\n",
    "table1.to_csv(\"../data/subset_main1.csv\", index=False)\n",
    "table2.to_csv(\"../data/subset_main2.csv\", index=False)\n",
    "table3.to_csv(\"../data/subset_main3.csv\", index=False)"
   ],
   "id": "9ef481e4127a099b",
   "outputs": [],
   "execution_count": 3
  },
  {
   "metadata": {
    "ExecuteTime": {
     "end_time": "2024-09-29T07:45:24.704967Z",
     "start_time": "2024-09-29T07:45:24.702334Z"
    }
   },
   "cell_type": "code",
   "source": [
    "print(f\"Table 1 columns: {list(table1.columns)}\")\n",
    "print(f\"Table 2 columns: {list(table2.columns)}\")\n",
    "print(f\"Table 3 columns: {list(table3.columns)}\")"
   ],
   "id": "57ac92eadd30ec3",
   "outputs": [
    {
     "name": "stdout",
     "output_type": "stream",
     "text": [
      "Table 1 columns: ['uid', 'full_name', 'email', 'address', 'sex', 'birthdate', 'phone']\n",
      "Table 2 columns: ['uid', 'first_name', 'middle_name', 'last_name', 'birthdate', 'phone', 'address']\n",
      "Table 3 columns: ['uid', 'name', 'email', 'birthdate', 'sex']\n"
     ]
    }
   ],
   "execution_count": 4
  },
  {
   "metadata": {
    "ExecuteTime": {
     "end_time": "2024-09-29T07:45:24.710397Z",
     "start_time": "2024-09-29T07:45:24.706106Z"
    }
   },
   "cell_type": "code",
   "source": "total_columns = [\"uid\", \"name\", \"birthdate\", \"phone\", \"address\", \"email\"]",
   "id": "d94b0cf17f108579",
   "outputs": [],
   "execution_count": 5
  },
  {
   "metadata": {
    "ExecuteTime": {
     "end_time": "2024-09-29T07:45:35.433425Z",
     "start_time": "2024-09-29T07:45:24.711021Z"
    }
   },
   "cell_type": "code",
   "source": [
    "from app.processor import Processor\n",
    "\n",
    "table1[\"name\"] = table1[\"full_name\"]\n",
    "table2[\"name\"] = table2[\"last_name\"] + \" \" + table2[\"first_name\"] + \" \" + table2[\"middle_name\"]\n",
    "table3[\"name\"] = table3[\"name\"].mapply(lambda x: x.split()[-1] + \" \" + x.split()[0])\n",
    "\n",
    "formatted_table1 = Processor(table1).clean_data()\n",
    "formatted_table2 = Processor(table2).clean_data()\n",
    "formatted_table3 = Processor(table3).clean_data()\n",
    "\n",
    "concat_df = pd.concat([formatted_table1[total_columns], formatted_table2[total_columns]])\n",
    "concat_df = pd.concat([concat_df, formatted_table3[total_columns]])\n",
    "print(len(formatted_table1), len(formatted_table2), len(formatted_table3), len(concat_df))"
   ],
   "id": "1e548f22a9780802",
   "outputs": [
    {
     "name": "stdout",
     "output_type": "stream",
     "text": [
      "100000 100000 100000 300000\n"
     ]
    }
   ],
   "execution_count": 6
  },
  {
   "metadata": {
    "ExecuteTime": {
     "end_time": "2024-09-29T07:45:36.864385Z",
     "start_time": "2024-09-29T07:45:35.434504Z"
    }
   },
   "cell_type": "code",
   "source": "concat_df.sort_values(by=\"name\").to_csv(\"../data/concat.csv\", index=False)",
   "id": "3b4e3de8b5ac1a8b",
   "outputs": [],
   "execution_count": 7
  },
  {
   "metadata": {
    "ExecuteTime": {
     "end_time": "2024-09-29T07:45:36.878718Z",
     "start_time": "2024-09-29T07:45:36.865396Z"
    }
   },
   "cell_type": "code",
   "source": "table2[table2[\"uid\"] == \"5224be19-47df-4c2b-97e7-e3d674afac3c\"]",
   "id": "999c2431ef5c0a96",
   "outputs": [
    {
     "data": {
      "text/plain": [
       "Empty DataFrame\n",
       "Columns: [uid, first_name, middle_name, last_name, birthdate, phone, address, name, email]\n",
       "Index: []"
      ],
      "text/html": [
       "<div>\n",
       "<style scoped>\n",
       "    .dataframe tbody tr th:only-of-type {\n",
       "        vertical-align: middle;\n",
       "    }\n",
       "\n",
       "    .dataframe tbody tr th {\n",
       "        vertical-align: top;\n",
       "    }\n",
       "\n",
       "    .dataframe thead th {\n",
       "        text-align: right;\n",
       "    }\n",
       "</style>\n",
       "<table border=\"1\" class=\"dataframe\">\n",
       "  <thead>\n",
       "    <tr style=\"text-align: right;\">\n",
       "      <th></th>\n",
       "      <th>uid</th>\n",
       "      <th>first_name</th>\n",
       "      <th>middle_name</th>\n",
       "      <th>last_name</th>\n",
       "      <th>birthdate</th>\n",
       "      <th>phone</th>\n",
       "      <th>address</th>\n",
       "      <th>name</th>\n",
       "      <th>email</th>\n",
       "    </tr>\n",
       "  </thead>\n",
       "  <tbody>\n",
       "  </tbody>\n",
       "</table>\n",
       "</div>"
      ]
     },
     "execution_count": 8,
     "metadata": {},
     "output_type": "execute_result"
    }
   ],
   "execution_count": 8
  },
  {
   "metadata": {
    "ExecuteTime": {
     "end_time": "2024-09-29T07:45:36.901953Z",
     "start_time": "2024-09-29T07:45:36.879488Z"
    }
   },
   "cell_type": "code",
   "source": "table2[table2[\"uid\"] == \"c8e9cb95-b55c-4dd1-92d8-6cf87e1346a5\"]",
   "id": "1284271959e3c7b",
   "outputs": [
    {
     "data": {
      "text/plain": [
       "Empty DataFrame\n",
       "Columns: [uid, first_name, middle_name, last_name, birthdate, phone, address, name, email]\n",
       "Index: []"
      ],
      "text/html": [
       "<div>\n",
       "<style scoped>\n",
       "    .dataframe tbody tr th:only-of-type {\n",
       "        vertical-align: middle;\n",
       "    }\n",
       "\n",
       "    .dataframe tbody tr th {\n",
       "        vertical-align: top;\n",
       "    }\n",
       "\n",
       "    .dataframe thead th {\n",
       "        text-align: right;\n",
       "    }\n",
       "</style>\n",
       "<table border=\"1\" class=\"dataframe\">\n",
       "  <thead>\n",
       "    <tr style=\"text-align: right;\">\n",
       "      <th></th>\n",
       "      <th>uid</th>\n",
       "      <th>first_name</th>\n",
       "      <th>middle_name</th>\n",
       "      <th>last_name</th>\n",
       "      <th>birthdate</th>\n",
       "      <th>phone</th>\n",
       "      <th>address</th>\n",
       "      <th>name</th>\n",
       "      <th>email</th>\n",
       "    </tr>\n",
       "  </thead>\n",
       "  <tbody>\n",
       "  </tbody>\n",
       "</table>\n",
       "</div>"
      ]
     },
     "execution_count": 9,
     "metadata": {},
     "output_type": "execute_result"
    }
   ],
   "execution_count": 9
  }
 ],
 "metadata": {
  "kernelspec": {
   "display_name": "Python 3",
   "language": "python",
   "name": "python3"
  },
  "language_info": {
   "codemirror_mode": {
    "name": "ipython",
    "version": 2
   },
   "file_extension": ".py",
   "mimetype": "text/x-python",
   "name": "python",
   "nbconvert_exporter": "python",
   "pygments_lexer": "ipython2",
   "version": "2.7.6"
  }
 },
 "nbformat": 4,
 "nbformat_minor": 5
}
