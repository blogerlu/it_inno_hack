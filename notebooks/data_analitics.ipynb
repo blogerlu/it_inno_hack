{
 "cells": [
  {
   "cell_type": "code",
   "id": "initial_id",
   "metadata": {
    "collapsed": true,
    "ExecuteTime": {
     "end_time": "2024-09-27T16:02:31.739833Z",
     "start_time": "2024-09-27T16:02:31.627905Z"
    }
   },
   "source": [
    "import pandas as pd\n",
    "import os\n",
    "\n",
    "import phonenumbers"
   ],
   "outputs": [],
   "execution_count": 12
  },
  {
   "metadata": {
    "ExecuteTime": {
     "end_time": "2024-09-27T15:39:51.907135Z",
     "start_time": "2024-09-27T15:39:51.901598Z"
    }
   },
   "cell_type": "code",
   "source": [
    "DATA_PATH = \"../data\""
   ],
   "id": "c106e00f4b6a4277",
   "outputs": [],
   "execution_count": 4
  },
  {
   "metadata": {
    "ExecuteTime": {
     "end_time": "2024-09-27T15:41:05.937914Z",
     "start_time": "2024-09-27T15:40:22.419504Z"
    }
   },
   "cell_type": "code",
   "source": [
    "main1 = pd.read_csv(os.path.join(DATA_PATH, \"main1.csv\"))"
   ],
   "id": "7b8ffbb45dcea73b",
   "outputs": [],
   "execution_count": 5
  },
  {
   "metadata": {
    "ExecuteTime": {
     "end_time": "2024-09-27T16:00:49.977160Z",
     "start_time": "2024-09-27T16:00:49.955023Z"
    }
   },
   "cell_type": "code",
   "source": "main1.head()",
   "id": "fbaa809a6a39b57c",
   "outputs": [
    {
     "data": {
      "text/plain": [
       "                                    uid                        full_name  \\\n",
       "0  8357db00-b4ce-4c33-a66e-1842744d0ce4  БАЛКИБАЕВ Углы МАМАСАИД КАРЛИТО   \n",
       "1  a40182ff-7b3c-4fe4-9455-505414bf6f1c        ИГИНОВА ЮТТА КОНДРАТЬЕВНП   \n",
       "2  2b401a4a-33c0-47e0-b527-300e17b3a8da           МИРОДИЛОВ ЗАФЕР РОБЕРТ   \n",
       "3  a844b52d-6fc8-4aac-9180-092cf3cba7b0          5МИРОДИЛОВ ЗАФЕР РОБЕРТ   \n",
       "4  95b72c05-1620-4f55-b3d4-c5151ff83184       БОРОВАЯ ШАХЗОДА НИКОЛАЕВНА   \n",
       "\n",
       "                            email  \\\n",
       "0  mamasaid_balkibaev0@example.ru   \n",
       "1        jutta_iginova1@yandex.ru   \n",
       "2        zafer_mirodilov2@mail.ru   \n",
       "3            zafer_mirodilov2mail   \n",
       "4    shahzoda_borovaja3@gmail.com   \n",
       "\n",
       "                                             address sex   birthdate  \\\n",
       "0  г. Урус-Мартан, пер. Шмидта, д. 233 к. 6/4, 63...   m  1954-06-15   \n",
       "1              бул. Есенина, д. 2/3 стр. 180, 881977   f  1981-11-24   \n",
       "2  ст. Красногорск (Моск.), ул. Урожайная, д. 4/9...   m  1954-07-03   \n",
       "3  ст. Красногорск (Моск.), ул. Урожайная, д. 4/9...   m   954-01-01   \n",
       "4     к. Устюжна, ш. Инженерное, д. 1/7 к. 4, 782855   f  1989-07-15   \n",
       "\n",
       "               phone  \n",
       "0   8 (020) 645-0526  \n",
       "1  8 (197) 128-63-27  \n",
       "2    +7 585 762 7855  \n",
       "3  +7 (585) 762 7855  \n",
       "4    +7 017 511 8662  "
      ],
      "text/html": [
       "<div>\n",
       "<style scoped>\n",
       "    .dataframe tbody tr th:only-of-type {\n",
       "        vertical-align: middle;\n",
       "    }\n",
       "\n",
       "    .dataframe tbody tr th {\n",
       "        vertical-align: top;\n",
       "    }\n",
       "\n",
       "    .dataframe thead th {\n",
       "        text-align: right;\n",
       "    }\n",
       "</style>\n",
       "<table border=\"1\" class=\"dataframe\">\n",
       "  <thead>\n",
       "    <tr style=\"text-align: right;\">\n",
       "      <th></th>\n",
       "      <th>uid</th>\n",
       "      <th>full_name</th>\n",
       "      <th>email</th>\n",
       "      <th>address</th>\n",
       "      <th>sex</th>\n",
       "      <th>birthdate</th>\n",
       "      <th>phone</th>\n",
       "    </tr>\n",
       "  </thead>\n",
       "  <tbody>\n",
       "    <tr>\n",
       "      <th>0</th>\n",
       "      <td>8357db00-b4ce-4c33-a66e-1842744d0ce4</td>\n",
       "      <td>БАЛКИБАЕВ Углы МАМАСАИД КАРЛИТО</td>\n",
       "      <td>mamasaid_balkibaev0@example.ru</td>\n",
       "      <td>г. Урус-Мартан, пер. Шмидта, д. 233 к. 6/4, 63...</td>\n",
       "      <td>m</td>\n",
       "      <td>1954-06-15</td>\n",
       "      <td>8 (020) 645-0526</td>\n",
       "    </tr>\n",
       "    <tr>\n",
       "      <th>1</th>\n",
       "      <td>a40182ff-7b3c-4fe4-9455-505414bf6f1c</td>\n",
       "      <td>ИГИНОВА ЮТТА КОНДРАТЬЕВНП</td>\n",
       "      <td>jutta_iginova1@yandex.ru</td>\n",
       "      <td>бул. Есенина, д. 2/3 стр. 180, 881977</td>\n",
       "      <td>f</td>\n",
       "      <td>1981-11-24</td>\n",
       "      <td>8 (197) 128-63-27</td>\n",
       "    </tr>\n",
       "    <tr>\n",
       "      <th>2</th>\n",
       "      <td>2b401a4a-33c0-47e0-b527-300e17b3a8da</td>\n",
       "      <td>МИРОДИЛОВ ЗАФЕР РОБЕРТ</td>\n",
       "      <td>zafer_mirodilov2@mail.ru</td>\n",
       "      <td>ст. Красногорск (Моск.), ул. Урожайная, д. 4/9...</td>\n",
       "      <td>m</td>\n",
       "      <td>1954-07-03</td>\n",
       "      <td>+7 585 762 7855</td>\n",
       "    </tr>\n",
       "    <tr>\n",
       "      <th>3</th>\n",
       "      <td>a844b52d-6fc8-4aac-9180-092cf3cba7b0</td>\n",
       "      <td>5МИРОДИЛОВ ЗАФЕР РОБЕРТ</td>\n",
       "      <td>zafer_mirodilov2mail</td>\n",
       "      <td>ст. Красногорск (Моск.), ул. Урожайная, д. 4/9...</td>\n",
       "      <td>m</td>\n",
       "      <td>954-01-01</td>\n",
       "      <td>+7 (585) 762 7855</td>\n",
       "    </tr>\n",
       "    <tr>\n",
       "      <th>4</th>\n",
       "      <td>95b72c05-1620-4f55-b3d4-c5151ff83184</td>\n",
       "      <td>БОРОВАЯ ШАХЗОДА НИКОЛАЕВНА</td>\n",
       "      <td>shahzoda_borovaja3@gmail.com</td>\n",
       "      <td>к. Устюжна, ш. Инженерное, д. 1/7 к. 4, 782855</td>\n",
       "      <td>f</td>\n",
       "      <td>1989-07-15</td>\n",
       "      <td>+7 017 511 8662</td>\n",
       "    </tr>\n",
       "  </tbody>\n",
       "</table>\n",
       "</div>"
      ]
     },
     "execution_count": 10,
     "metadata": {},
     "output_type": "execute_result"
    }
   ],
   "execution_count": 10
  },
  {
   "metadata": {
    "ExecuteTime": {
     "end_time": "2024-09-27T16:01:01.688166Z",
     "start_time": "2024-09-27T16:01:01.671372Z"
    }
   },
   "cell_type": "code",
   "source": [
    "main_part = main1[:1000]\n",
    "main_part.head(2)"
   ],
   "id": "f58a76902e7eba74",
   "outputs": [
    {
     "data": {
      "text/plain": [
       "                                    uid                        full_name  \\\n",
       "0  8357db00-b4ce-4c33-a66e-1842744d0ce4  БАЛКИБАЕВ Углы МАМАСАИД КАРЛИТО   \n",
       "1  a40182ff-7b3c-4fe4-9455-505414bf6f1c        ИГИНОВА ЮТТА КОНДРАТЬЕВНП   \n",
       "\n",
       "                            email  \\\n",
       "0  mamasaid_balkibaev0@example.ru   \n",
       "1        jutta_iginova1@yandex.ru   \n",
       "\n",
       "                                             address sex   birthdate  \\\n",
       "0  г. Урус-Мартан, пер. Шмидта, д. 233 к. 6/4, 63...   m  1954-06-15   \n",
       "1              бул. Есенина, д. 2/3 стр. 180, 881977   f  1981-11-24   \n",
       "\n",
       "               phone  \n",
       "0   8 (020) 645-0526  \n",
       "1  8 (197) 128-63-27  "
      ],
      "text/html": [
       "<div>\n",
       "<style scoped>\n",
       "    .dataframe tbody tr th:only-of-type {\n",
       "        vertical-align: middle;\n",
       "    }\n",
       "\n",
       "    .dataframe tbody tr th {\n",
       "        vertical-align: top;\n",
       "    }\n",
       "\n",
       "    .dataframe thead th {\n",
       "        text-align: right;\n",
       "    }\n",
       "</style>\n",
       "<table border=\"1\" class=\"dataframe\">\n",
       "  <thead>\n",
       "    <tr style=\"text-align: right;\">\n",
       "      <th></th>\n",
       "      <th>uid</th>\n",
       "      <th>full_name</th>\n",
       "      <th>email</th>\n",
       "      <th>address</th>\n",
       "      <th>sex</th>\n",
       "      <th>birthdate</th>\n",
       "      <th>phone</th>\n",
       "    </tr>\n",
       "  </thead>\n",
       "  <tbody>\n",
       "    <tr>\n",
       "      <th>0</th>\n",
       "      <td>8357db00-b4ce-4c33-a66e-1842744d0ce4</td>\n",
       "      <td>БАЛКИБАЕВ Углы МАМАСАИД КАРЛИТО</td>\n",
       "      <td>mamasaid_balkibaev0@example.ru</td>\n",
       "      <td>г. Урус-Мартан, пер. Шмидта, д. 233 к. 6/4, 63...</td>\n",
       "      <td>m</td>\n",
       "      <td>1954-06-15</td>\n",
       "      <td>8 (020) 645-0526</td>\n",
       "    </tr>\n",
       "    <tr>\n",
       "      <th>1</th>\n",
       "      <td>a40182ff-7b3c-4fe4-9455-505414bf6f1c</td>\n",
       "      <td>ИГИНОВА ЮТТА КОНДРАТЬЕВНП</td>\n",
       "      <td>jutta_iginova1@yandex.ru</td>\n",
       "      <td>бул. Есенина, д. 2/3 стр. 180, 881977</td>\n",
       "      <td>f</td>\n",
       "      <td>1981-11-24</td>\n",
       "      <td>8 (197) 128-63-27</td>\n",
       "    </tr>\n",
       "  </tbody>\n",
       "</table>\n",
       "</div>"
      ]
     },
     "execution_count": 11,
     "metadata": {},
     "output_type": "execute_result"
    }
   ],
   "execution_count": 11
  },
  {
   "metadata": {
    "ExecuteTime": {
     "end_time": "2024-09-27T16:29:14.794078Z",
     "start_time": "2024-09-27T16:29:14.787849Z"
    }
   },
   "cell_type": "code",
   "source": [
    "def replace_phone_0(phone: str) -> str:\n",
    "    for i in range(1, 10):\n",
    "        phone = phone.replace(f\"{i}\", \"0\")\n",
    "    phone = phone.replace(\" \", \"\")\n",
    "    phone = phone.replace(\"(\", \"\")\n",
    "    phone = phone.replace(\")\", \"\")\n",
    "    phone = phone.replace(\"-\", \"\")\n",
    "\n",
    "    if len(phone) < 10:\n",
    "        return \"error\"\n",
    "    return phone"
   ],
   "id": "dad49850ee736003",
   "outputs": [],
   "execution_count": 30
  },
  {
   "metadata": {
    "ExecuteTime": {
     "end_time": "2024-09-27T16:29:30.146952Z",
     "start_time": "2024-09-27T16:29:15.486252Z"
    }
   },
   "cell_type": "code",
   "source": [
    "main1[\"phone\"].map(lambda x: replace_phone_0(x)).value_counts()"
   ],
   "id": "65ae2cba10eda7c6",
   "outputs": [
    {
     "data": {
      "text/plain": [
       "phone\n",
       "00000000000        3643770\n",
       "+00000000000       3356041\n",
       "error              1380320\n",
       "000000000000         36697\n",
       "+000000000000        18760\n",
       "                    ...   \n",
       "000s00s00o0              1\n",
       "+000o000000o000          1\n",
       "+000s0s000si             1\n",
       "00o0000000i0             1\n",
       "000i0ii0000              1\n",
       "Name: count, Length: 6661, dtype: int64"
      ]
     },
     "execution_count": 31,
     "metadata": {},
     "output_type": "execute_result"
    }
   ],
   "execution_count": 31
  },
  {
   "metadata": {},
   "cell_type": "code",
   "outputs": [],
   "execution_count": null,
   "source": [
    "def phone_format(phone: str) -> str:\n",
    "    phone = phone.replace(\" \", \"\")\n",
    "    phone = phone.replace(\"(\", \"\")\n",
    "    phone = phone.replace(\")\", \"\")\n",
    "    phone = phone.replace(\"-\", \"\")\n",
    "    \n",
    "    return phone\n"
   ],
   "id": "2bb9d48abc2b0d64"
  },
  {
   "metadata": {},
   "cell_type": "code",
   "outputs": [],
   "execution_count": null,
   "source": [
    "from clickhouse_driver import Client\n",
    "import uuid\n",
    "class ClickhouseClient:\n",
    "    def __init__(self):\n",
    "        self.client = Client(host='clickhouse', port=9000, user='default', password='', database='default')\n",
    "\n",
    "    def get_query(self, query):\n",
    "        result = self.client.execute(query)\n",
    "        return result\n",
    "    \n",
    "    def add_new_row(self, uid1: uuid.UUID, uid2: uuid.UUID, uid3: uuid.UUID):\n",
    "        self.client.execute('INSERT INTO table_results (id_is1, id_is2, id_is3) VALUES', [([uid1], [uid2], [uid3])])\n",
    "        \n",
    "        \n",
    "    \n",
    "\n",
    "        "
   ],
   "id": "515902225e3982e4"
  }
 ],
 "metadata": {
  "kernelspec": {
   "display_name": "Python 3",
   "language": "python",
   "name": "python3"
  },
  "language_info": {
   "codemirror_mode": {
    "name": "ipython",
    "version": 2
   },
   "file_extension": ".py",
   "mimetype": "text/x-python",
   "name": "python",
   "nbconvert_exporter": "python",
   "pygments_lexer": "ipython2",
   "version": "2.7.6"
  }
 },
 "nbformat": 4,
 "nbformat_minor": 5
}
