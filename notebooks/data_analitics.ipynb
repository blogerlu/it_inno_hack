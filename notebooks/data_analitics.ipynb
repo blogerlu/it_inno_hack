{
 "cells": [
  {
   "cell_type": "code",
   "id": "initial_id",
   "metadata": {
    "collapsed": true,
    "ExecuteTime": {
     "end_time": "2024-09-27T16:45:27.858382Z",
     "start_time": "2024-09-27T16:45:26.881878Z"
    }
   },
   "source": [
    "import pandas as pd\n",
    "import os\n",
    "\n",
    "import phonenumbers"
   ],
   "outputs": [],
   "execution_count": 1
  },
  {
   "metadata": {
    "ExecuteTime": {
     "end_time": "2024-09-27T16:45:27.880786Z",
     "start_time": "2024-09-27T16:45:27.878162Z"
    }
   },
   "cell_type": "code",
   "source": "DATA_PATH = '../data'",
   "id": "c106e00f4b6a4277",
   "outputs": [],
   "execution_count": 2
  },
  {
   "metadata": {
    "jupyter": {
     "is_executing": true
    },
    "ExecuteTime": {
     "start_time": "2024-09-27T16:41:18.899544Z"
    }
   },
   "cell_type": "code",
   "source": "main1 = pd.read_csv(os.path.join(DATA_PATH, 'main1.csv'))",
   "id": "7b8ffbb45dcea73b",
   "outputs": [],
   "execution_count": null
  },
  {
   "metadata": {
    "ExecuteTime": {
     "end_time": "2024-09-27T16:46:11.644665Z",
     "start_time": "2024-09-27T16:45:27.945016Z"
    }
   },
   "cell_type": "code",
   "source": "main2 = pd.read_csv(os.path.join(DATA_PATH, 'main2.csv'))",
   "id": "4f6743c602dd0eec",
   "outputs": [],
   "execution_count": 3
  },
  {
   "metadata": {
    "ExecuteTime": {
     "end_time": "2024-09-27T16:50:49.114180Z",
     "start_time": "2024-09-27T16:50:20.432586Z"
    }
   },
   "cell_type": "code",
   "source": "main3 = pd.read_csv(os.path.join(DATA_PATH, 'main3.csv'))",
   "id": "1bc6b75e84bd2c96",
   "outputs": [],
   "execution_count": 5
  },
  {
   "metadata": {
    "ExecuteTime": {
     "end_time": "2024-09-27T16:00:49.977160Z",
     "start_time": "2024-09-27T16:00:49.955023Z"
    }
   },
   "cell_type": "code",
   "source": "main1.head()",
   "id": "fbaa809a6a39b57c",
   "outputs": [
    {
     "data": {
      "text/plain": [
       "                                    uid                        full_name  \\\n",
       "0  8357db00-b4ce-4c33-a66e-1842744d0ce4  БАЛКИБАЕВ Углы МАМАСАИД КАРЛИТО   \n",
       "1  a40182ff-7b3c-4fe4-9455-505414bf6f1c        ИГИНОВА ЮТТА КОНДРАТЬЕВНП   \n",
       "2  2b401a4a-33c0-47e0-b527-300e17b3a8da           МИРОДИЛОВ ЗАФЕР РОБЕРТ   \n",
       "3  a844b52d-6fc8-4aac-9180-092cf3cba7b0          5МИРОДИЛОВ ЗАФЕР РОБЕРТ   \n",
       "4  95b72c05-1620-4f55-b3d4-c5151ff83184       БОРОВАЯ ШАХЗОДА НИКОЛАЕВНА   \n",
       "\n",
       "                            email  \\\n",
       "0  mamasaid_balkibaev0@example.ru   \n",
       "1        jutta_iginova1@yandex.ru   \n",
       "2        zafer_mirodilov2@mail.ru   \n",
       "3            zafer_mirodilov2mail   \n",
       "4    shahzoda_borovaja3@gmail.com   \n",
       "\n",
       "                                             address sex   birthdate  \\\n",
       "0  г. Урус-Мартан, пер. Шмидта, д. 233 к. 6/4, 63...   m  1954-06-15   \n",
       "1              бул. Есенина, д. 2/3 стр. 180, 881977   f  1981-11-24   \n",
       "2  ст. Красногорск (Моск.), ул. Урожайная, д. 4/9...   m  1954-07-03   \n",
       "3  ст. Красногорск (Моск.), ул. Урожайная, д. 4/9...   m   954-01-01   \n",
       "4     к. Устюжна, ш. Инженерное, д. 1/7 к. 4, 782855   f  1989-07-15   \n",
       "\n",
       "               phone  \n",
       "0   8 (020) 645-0526  \n",
       "1  8 (197) 128-63-27  \n",
       "2    +7 585 762 7855  \n",
       "3  +7 (585) 762 7855  \n",
       "4    +7 017 511 8662  "
      ],
      "text/html": [
       "<div>\n",
       "<style scoped>\n",
       "    .dataframe tbody tr th:only-of-type {\n",
       "        vertical-align: middle;\n",
       "    }\n",
       "\n",
       "    .dataframe tbody tr th {\n",
       "        vertical-align: top;\n",
       "    }\n",
       "\n",
       "    .dataframe thead th {\n",
       "        text-align: right;\n",
       "    }\n",
       "</style>\n",
       "<table border=\"1\" class=\"dataframe\">\n",
       "  <thead>\n",
       "    <tr style=\"text-align: right;\">\n",
       "      <th></th>\n",
       "      <th>uid</th>\n",
       "      <th>full_name</th>\n",
       "      <th>email</th>\n",
       "      <th>address</th>\n",
       "      <th>sex</th>\n",
       "      <th>birthdate</th>\n",
       "      <th>phone</th>\n",
       "    </tr>\n",
       "  </thead>\n",
       "  <tbody>\n",
       "    <tr>\n",
       "      <th>0</th>\n",
       "      <td>8357db00-b4ce-4c33-a66e-1842744d0ce4</td>\n",
       "      <td>БАЛКИБАЕВ Углы МАМАСАИД КАРЛИТО</td>\n",
       "      <td>mamasaid_balkibaev0@example.ru</td>\n",
       "      <td>г. Урус-Мартан, пер. Шмидта, д. 233 к. 6/4, 63...</td>\n",
       "      <td>m</td>\n",
       "      <td>1954-06-15</td>\n",
       "      <td>8 (020) 645-0526</td>\n",
       "    </tr>\n",
       "    <tr>\n",
       "      <th>1</th>\n",
       "      <td>a40182ff-7b3c-4fe4-9455-505414bf6f1c</td>\n",
       "      <td>ИГИНОВА ЮТТА КОНДРАТЬЕВНП</td>\n",
       "      <td>jutta_iginova1@yandex.ru</td>\n",
       "      <td>бул. Есенина, д. 2/3 стр. 180, 881977</td>\n",
       "      <td>f</td>\n",
       "      <td>1981-11-24</td>\n",
       "      <td>8 (197) 128-63-27</td>\n",
       "    </tr>\n",
       "    <tr>\n",
       "      <th>2</th>\n",
       "      <td>2b401a4a-33c0-47e0-b527-300e17b3a8da</td>\n",
       "      <td>МИРОДИЛОВ ЗАФЕР РОБЕРТ</td>\n",
       "      <td>zafer_mirodilov2@mail.ru</td>\n",
       "      <td>ст. Красногорск (Моск.), ул. Урожайная, д. 4/9...</td>\n",
       "      <td>m</td>\n",
       "      <td>1954-07-03</td>\n",
       "      <td>+7 585 762 7855</td>\n",
       "    </tr>\n",
       "    <tr>\n",
       "      <th>3</th>\n",
       "      <td>a844b52d-6fc8-4aac-9180-092cf3cba7b0</td>\n",
       "      <td>5МИРОДИЛОВ ЗАФЕР РОБЕРТ</td>\n",
       "      <td>zafer_mirodilov2mail</td>\n",
       "      <td>ст. Красногорск (Моск.), ул. Урожайная, д. 4/9...</td>\n",
       "      <td>m</td>\n",
       "      <td>954-01-01</td>\n",
       "      <td>+7 (585) 762 7855</td>\n",
       "    </tr>\n",
       "    <tr>\n",
       "      <th>4</th>\n",
       "      <td>95b72c05-1620-4f55-b3d4-c5151ff83184</td>\n",
       "      <td>БОРОВАЯ ШАХЗОДА НИКОЛАЕВНА</td>\n",
       "      <td>shahzoda_borovaja3@gmail.com</td>\n",
       "      <td>к. Устюжна, ш. Инженерное, д. 1/7 к. 4, 782855</td>\n",
       "      <td>f</td>\n",
       "      <td>1989-07-15</td>\n",
       "      <td>+7 017 511 8662</td>\n",
       "    </tr>\n",
       "  </tbody>\n",
       "</table>\n",
       "</div>"
      ]
     },
     "execution_count": 10,
     "metadata": {},
     "output_type": "execute_result"
    }
   ],
   "execution_count": 10
  },
  {
   "metadata": {
    "ExecuteTime": {
     "end_time": "2024-09-27T16:01:01.688166Z",
     "start_time": "2024-09-27T16:01:01.671372Z"
    }
   },
   "cell_type": "code",
   "source": [
    "main_part = main1[:1000]\n",
    "main_part.head(2)"
   ],
   "id": "f58a76902e7eba74",
   "outputs": [
    {
     "data": {
      "text/plain": [
       "                                    uid                        full_name  \\\n",
       "0  8357db00-b4ce-4c33-a66e-1842744d0ce4  БАЛКИБАЕВ Углы МАМАСАИД КАРЛИТО   \n",
       "1  a40182ff-7b3c-4fe4-9455-505414bf6f1c        ИГИНОВА ЮТТА КОНДРАТЬЕВНП   \n",
       "\n",
       "                            email  \\\n",
       "0  mamasaid_balkibaev0@example.ru   \n",
       "1        jutta_iginova1@yandex.ru   \n",
       "\n",
       "                                             address sex   birthdate  \\\n",
       "0  г. Урус-Мартан, пер. Шмидта, д. 233 к. 6/4, 63...   m  1954-06-15   \n",
       "1              бул. Есенина, д. 2/3 стр. 180, 881977   f  1981-11-24   \n",
       "\n",
       "               phone  \n",
       "0   8 (020) 645-0526  \n",
       "1  8 (197) 128-63-27  "
      ],
      "text/html": [
       "<div>\n",
       "<style scoped>\n",
       "    .dataframe tbody tr th:only-of-type {\n",
       "        vertical-align: middle;\n",
       "    }\n",
       "\n",
       "    .dataframe tbody tr th {\n",
       "        vertical-align: top;\n",
       "    }\n",
       "\n",
       "    .dataframe thead th {\n",
       "        text-align: right;\n",
       "    }\n",
       "</style>\n",
       "<table border=\"1\" class=\"dataframe\">\n",
       "  <thead>\n",
       "    <tr style=\"text-align: right;\">\n",
       "      <th></th>\n",
       "      <th>uid</th>\n",
       "      <th>full_name</th>\n",
       "      <th>email</th>\n",
       "      <th>address</th>\n",
       "      <th>sex</th>\n",
       "      <th>birthdate</th>\n",
       "      <th>phone</th>\n",
       "    </tr>\n",
       "  </thead>\n",
       "  <tbody>\n",
       "    <tr>\n",
       "      <th>0</th>\n",
       "      <td>8357db00-b4ce-4c33-a66e-1842744d0ce4</td>\n",
       "      <td>БАЛКИБАЕВ Углы МАМАСАИД КАРЛИТО</td>\n",
       "      <td>mamasaid_balkibaev0@example.ru</td>\n",
       "      <td>г. Урус-Мартан, пер. Шмидта, д. 233 к. 6/4, 63...</td>\n",
       "      <td>m</td>\n",
       "      <td>1954-06-15</td>\n",
       "      <td>8 (020) 645-0526</td>\n",
       "    </tr>\n",
       "    <tr>\n",
       "      <th>1</th>\n",
       "      <td>a40182ff-7b3c-4fe4-9455-505414bf6f1c</td>\n",
       "      <td>ИГИНОВА ЮТТА КОНДРАТЬЕВНП</td>\n",
       "      <td>jutta_iginova1@yandex.ru</td>\n",
       "      <td>бул. Есенина, д. 2/3 стр. 180, 881977</td>\n",
       "      <td>f</td>\n",
       "      <td>1981-11-24</td>\n",
       "      <td>8 (197) 128-63-27</td>\n",
       "    </tr>\n",
       "  </tbody>\n",
       "</table>\n",
       "</div>"
      ]
     },
     "execution_count": 11,
     "metadata": {},
     "output_type": "execute_result"
    }
   ],
   "execution_count": 11
  },
  {
   "metadata": {
    "ExecuteTime": {
     "end_time": "2024-09-27T16:32:20.994915Z",
     "start_time": "2024-09-27T16:32:20.989026Z"
    }
   },
   "cell_type": "code",
   "source": [
    "def replace_phone_0(phone: str) -> str:\n",
    "    for i in range(1, 10):\n",
    "        phone = phone.replace(f'{i}', '0')\n",
    "    phone = phone.replace(' ', '')\n",
    "    phone = phone.replace('(', '')\n",
    "    phone = phone.replace(')', '')\n",
    "    phone = phone.replace('-', '')\n",
    "    if phone[0] == '+':\n",
    "        phone = phone.replace('+', '')\n",
    "\n",
    "    if len(phone) < 10:\n",
    "        return 'error'\n",
    "    return phone"
   ],
   "id": "dad49850ee736003",
   "outputs": [],
   "execution_count": 34
  },
  {
   "metadata": {
    "ExecuteTime": {
     "end_time": "2024-09-27T16:32:36.060244Z",
     "start_time": "2024-09-27T16:32:21.170795Z"
    }
   },
   "cell_type": "code",
   "source": "main1['phone'].map(lambda x: replace_phone_0(x)).value_counts()",
   "id": "65ae2cba10eda7c6",
   "outputs": [
    {
     "data": {
      "text/plain": [
       "phone\n",
       "00000000000     6999811\n",
       "error           1380320\n",
       "000000000000      55457\n",
       "000000i0000        5067\n",
       "00o00000000        4997\n",
       "                 ...   \n",
       "00s0i00i000           1\n",
       "000is000si0           1\n",
       "00o00s0i00i           1\n",
       "00io00000s0           1\n",
       "00s00oso000           1\n",
       "Name: count, Length: 4669, dtype: int64"
      ]
     },
     "execution_count": 35,
     "metadata": {},
     "output_type": "execute_result"
    }
   ],
   "execution_count": 35
  },
  {
   "metadata": {
    "ExecuteTime": {
     "end_time": "2024-09-27T16:46:11.818838Z",
     "start_time": "2024-09-27T16:46:11.805673Z"
    }
   },
   "cell_type": "code",
   "source": "main2.head()",
   "id": "babdbc7209c9d508",
   "outputs": [
    {
     "data": {
      "text/plain": [
       "                                    uid first_name middle_name   last_name  \\\n",
       "0  fd0eb198-eeef-4ff9-a983-26dd9aebb084   МАМАСАИД     КАРЛИТО   БAЛKИБАEВ   \n",
       "1  7ac130fe-690e-4e39-9b25-b141095f3eec      ЗАФЕР      РОБЕРТ  МИИРОДИЛОВ   \n",
       "2  f564db39-b7b1-4643-8d24-4759d5ba6ba5    ШАХЗОДА  НИКОЛАЕВНА     БОРОВАЯ   \n",
       "3  93c32877-6cf0-48f9-bb1e-c67794f08541    НУРСУЛУ       Неетт   КУРБОНОВА   \n",
       "4  a207993d-185f-4b86-bda6-6ce2c0c6a0ff      ЮРРИЙ        ЯКУП      КРИЛОВ   \n",
       "\n",
       "    birthdate               phone  \\\n",
       "0  1954-06-15     8 (020) 6450526   \n",
       "1  1954-07-03   +7 (585) 762 7855   \n",
       "2  1989-07-15           511-86-62   \n",
       "3  2000-10-21  +7 (180) 759-21-51   \n",
       "4  1965-05-31               66576   \n",
       "\n",
       "                                             address  \n",
       "0  г. Урус-Мартан, пер. Шмидта, д. 233 к. 6/4, 63...  \n",
       "1  ст. Красногорск (Моск.), ул. Урожайная, д. 4/9...  \n",
       "2     к. Устюжна, ш. Инженерное, д. 1/7 к. 4, 782855  \n",
       "3        клх Кулу, пер. Кирова, д. 8 стр. 51, 713661  \n",
       "4  с. Солнечногорск, ш. Краснопартизанское, д. 83...  "
      ],
      "text/html": [
       "<div>\n",
       "<style scoped>\n",
       "    .dataframe tbody tr th:only-of-type {\n",
       "        vertical-align: middle;\n",
       "    }\n",
       "\n",
       "    .dataframe tbody tr th {\n",
       "        vertical-align: top;\n",
       "    }\n",
       "\n",
       "    .dataframe thead th {\n",
       "        text-align: right;\n",
       "    }\n",
       "</style>\n",
       "<table border=\"1\" class=\"dataframe\">\n",
       "  <thead>\n",
       "    <tr style=\"text-align: right;\">\n",
       "      <th></th>\n",
       "      <th>uid</th>\n",
       "      <th>first_name</th>\n",
       "      <th>middle_name</th>\n",
       "      <th>last_name</th>\n",
       "      <th>birthdate</th>\n",
       "      <th>phone</th>\n",
       "      <th>address</th>\n",
       "    </tr>\n",
       "  </thead>\n",
       "  <tbody>\n",
       "    <tr>\n",
       "      <th>0</th>\n",
       "      <td>fd0eb198-eeef-4ff9-a983-26dd9aebb084</td>\n",
       "      <td>МАМАСАИД</td>\n",
       "      <td>КАРЛИТО</td>\n",
       "      <td>БAЛKИБАEВ</td>\n",
       "      <td>1954-06-15</td>\n",
       "      <td>8 (020) 6450526</td>\n",
       "      <td>г. Урус-Мартан, пер. Шмидта, д. 233 к. 6/4, 63...</td>\n",
       "    </tr>\n",
       "    <tr>\n",
       "      <th>1</th>\n",
       "      <td>7ac130fe-690e-4e39-9b25-b141095f3eec</td>\n",
       "      <td>ЗАФЕР</td>\n",
       "      <td>РОБЕРТ</td>\n",
       "      <td>МИИРОДИЛОВ</td>\n",
       "      <td>1954-07-03</td>\n",
       "      <td>+7 (585) 762 7855</td>\n",
       "      <td>ст. Красногорск (Моск.), ул. Урожайная, д. 4/9...</td>\n",
       "    </tr>\n",
       "    <tr>\n",
       "      <th>2</th>\n",
       "      <td>f564db39-b7b1-4643-8d24-4759d5ba6ba5</td>\n",
       "      <td>ШАХЗОДА</td>\n",
       "      <td>НИКОЛАЕВНА</td>\n",
       "      <td>БОРОВАЯ</td>\n",
       "      <td>1989-07-15</td>\n",
       "      <td>511-86-62</td>\n",
       "      <td>к. Устюжна, ш. Инженерное, д. 1/7 к. 4, 782855</td>\n",
       "    </tr>\n",
       "    <tr>\n",
       "      <th>3</th>\n",
       "      <td>93c32877-6cf0-48f9-bb1e-c67794f08541</td>\n",
       "      <td>НУРСУЛУ</td>\n",
       "      <td>Неетт</td>\n",
       "      <td>КУРБОНОВА</td>\n",
       "      <td>2000-10-21</td>\n",
       "      <td>+7 (180) 759-21-51</td>\n",
       "      <td>клх Кулу, пер. Кирова, д. 8 стр. 51, 713661</td>\n",
       "    </tr>\n",
       "    <tr>\n",
       "      <th>4</th>\n",
       "      <td>a207993d-185f-4b86-bda6-6ce2c0c6a0ff</td>\n",
       "      <td>ЮРРИЙ</td>\n",
       "      <td>ЯКУП</td>\n",
       "      <td>КРИЛОВ</td>\n",
       "      <td>1965-05-31</td>\n",
       "      <td>66576</td>\n",
       "      <td>с. Солнечногорск, ш. Краснопартизанское, д. 83...</td>\n",
       "    </tr>\n",
       "  </tbody>\n",
       "</table>\n",
       "</div>"
      ]
     },
     "execution_count": 4,
     "metadata": {},
     "output_type": "execute_result"
    }
   ],
   "execution_count": 4
  },
  {
   "metadata": {
    "ExecuteTime": {
     "end_time": "2024-09-27T16:50:49.129149Z",
     "start_time": "2024-09-27T16:50:49.121445Z"
    }
   },
   "cell_type": "code",
   "source": "main3.head(3)",
   "id": "2bb9d48abc2b0d64",
   "outputs": [
    {
     "data": {
      "text/plain": [
       "                                    uid                name  \\\n",
       "0  9185f879-6289-4ad6-9cb0-ed7cb6cb652b  МАМАСАИД ЬАДКИБАЕВ   \n",
       "1  289fcf9e-af05-43cf-a6d4-1d1d3cf5131f        ЮТТА ИГИНОВА   \n",
       "2  c2b04755-ebd8-4625-b8bb-4131ca049415     ЗАФЕР МИРОДИЛОВ   \n",
       "\n",
       "                            email   birthdate sex  \n",
       "0  mamasaid_balkibaev0@example.ru  9145-06-15   m  \n",
       "1           jutta_ihinova1;yanddx  1981-11-24   f  \n",
       "2        zafer_mirodilov2@mail.ru        1954   m  "
      ],
      "text/html": [
       "<div>\n",
       "<style scoped>\n",
       "    .dataframe tbody tr th:only-of-type {\n",
       "        vertical-align: middle;\n",
       "    }\n",
       "\n",
       "    .dataframe tbody tr th {\n",
       "        vertical-align: top;\n",
       "    }\n",
       "\n",
       "    .dataframe thead th {\n",
       "        text-align: right;\n",
       "    }\n",
       "</style>\n",
       "<table border=\"1\" class=\"dataframe\">\n",
       "  <thead>\n",
       "    <tr style=\"text-align: right;\">\n",
       "      <th></th>\n",
       "      <th>uid</th>\n",
       "      <th>name</th>\n",
       "      <th>email</th>\n",
       "      <th>birthdate</th>\n",
       "      <th>sex</th>\n",
       "    </tr>\n",
       "  </thead>\n",
       "  <tbody>\n",
       "    <tr>\n",
       "      <th>0</th>\n",
       "      <td>9185f879-6289-4ad6-9cb0-ed7cb6cb652b</td>\n",
       "      <td>МАМАСАИД ЬАДКИБАЕВ</td>\n",
       "      <td>mamasaid_balkibaev0@example.ru</td>\n",
       "      <td>9145-06-15</td>\n",
       "      <td>m</td>\n",
       "    </tr>\n",
       "    <tr>\n",
       "      <th>1</th>\n",
       "      <td>289fcf9e-af05-43cf-a6d4-1d1d3cf5131f</td>\n",
       "      <td>ЮТТА ИГИНОВА</td>\n",
       "      <td>jutta_ihinova1;yanddx</td>\n",
       "      <td>1981-11-24</td>\n",
       "      <td>f</td>\n",
       "    </tr>\n",
       "    <tr>\n",
       "      <th>2</th>\n",
       "      <td>c2b04755-ebd8-4625-b8bb-4131ca049415</td>\n",
       "      <td>ЗАФЕР МИРОДИЛОВ</td>\n",
       "      <td>zafer_mirodilov2@mail.ru</td>\n",
       "      <td>1954</td>\n",
       "      <td>m</td>\n",
       "    </tr>\n",
       "  </tbody>\n",
       "</table>\n",
       "</div>"
      ]
     },
     "execution_count": 6,
     "metadata": {},
     "output_type": "execute_result"
    }
   ],
   "execution_count": 6
  },
  {
   "metadata": {},
   "cell_type": "code",
   "outputs": [],
   "execution_count": null,
   "source": "",
   "id": "88a4496a5ccb1f83"
  }
 ],
 "metadata": {
  "kernelspec": {
   "display_name": "Python 3",
   "language": "python",
   "name": "python3"
  },
  "language_info": {
   "codemirror_mode": {
    "name": "ipython",
    "version": 2
   },
   "file_extension": ".py",
   "mimetype": "text/x-python",
   "name": "python",
   "nbconvert_exporter": "python",
   "pygments_lexer": "ipython2",
   "version": "2.7.6"
  }
 },
 "nbformat": 4,
 "nbformat_minor": 5
}
