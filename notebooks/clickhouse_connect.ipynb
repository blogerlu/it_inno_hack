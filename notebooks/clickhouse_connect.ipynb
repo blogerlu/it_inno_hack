{
 "cells": [
  {
   "cell_type": "code",
   "id": "initial_id",
   "metadata": {
    "collapsed": true,
    "ExecuteTime": {
     "end_time": "2024-09-28T11:22:05.069577Z",
     "start_time": "2024-09-28T11:22:05.065458Z"
    }
   },
   "source": "from clickhouse_driver import Client",
   "outputs": [],
   "execution_count": 45
  },
  {
   "metadata": {
    "ExecuteTime": {
     "end_time": "2024-09-28T11:22:05.271600Z",
     "start_time": "2024-09-28T11:22:05.267022Z"
    }
   },
   "cell_type": "code",
   "source": [
    "client = Client(host=\"localhost\", port=9000, user=\"default\", password=\"\", database=\"default\")"
   ],
   "id": "711b66958274b2cd",
   "outputs": [],
   "execution_count": 46
  },
  {
   "metadata": {
    "ExecuteTime": {
     "end_time": "2024-09-28T11:22:06.057433Z",
     "start_time": "2024-09-28T11:22:06.030477Z"
    }
   },
   "cell_type": "code",
   "source": [
    "query = \"SELECT * FROM table_dataset1 LIMIT 10\"\n",
    "result = client.execute(query)\n",
    "\n",
    "# Вывод результатов\n",
    "for row in result:\n",
    "    print(row)\n",
    "\n",
    "# Закрытие подключения (не обязательно, так как клиент автоматически закрывает соединение при завершении)\n",
    "client.disconnect()"
   ],
   "id": "b9f0d2c79d9a969",
   "outputs": [
    {
     "name": "stdout",
     "output_type": "stream",
     "text": [
      "(UUID('912d4e55-bf5f-4e3f-8000-030f61d5ef78'), 'СПАТМЕВА МЦХАРАМЖОН НИКОЛАЕВНА', 'muharamzhon_spataeva1753379@gmail.com', 'ст. Валаам, алл. Энергетиков, д. 3 стр. 1/8, 756910', 'f', '1956-11-18', '+7 (296) 840-3538')\n",
      "(UUID('72272a61-4e64-4211-8000-1f1e099ba3ae'), 'МУХИДИНОВ РУСЛОНБЕК АНДРЕЕВИЧ огли АНДРЕЕВИЧ', 'ruslonbek_muhidinov2110104@example', 'ст. Нижнекамск, ш. Вахитова, д. 4, 021862', 'm', '2000-08-15', '8 760 124 1525')\n",
      "(UUID('1e47adde-649a-417f-8000-267f2c7b5f6d'), 'БАТИКАН ИЛЬИНИНА НИКОЛАЕВНА', 'ilinina_batikan2801052@bk.ru', 'д. Александров Гай, пр. Ломоносова, д. 3/7 к. 6, 775447', 'f', '1898-08-03', '+7 75i 030 65 79')\n",
      "(UUID('4cbbc248-ea52-455e-8000-298598080b96'), 'ТЕМИРОВ ВИЛЬЯМ ТОЮНБЕК0ВИЧ', 'vokjam;temirov791637zbk.ru', 'г. Йошкар-Ола, ш. 70 лет Октября, д. 544 к. 5/8, 068319', 'm', '1946', '+7 132 405 61 37')\n",
      "(UUID('a5f1e7d7-d84d-43a1-8000-302afd930d59'), 'БАРАНОВА Оглы ОКСАНА СИГЛИНДЕ', 'oksana_baranova6574476@example.com', 'клх Одинцово, ш. Халтурина, д. 94 стр. 278, 485423', 'f', '2005-05-16', '+7 (034) 557-73-65')\n",
      "(UUID('ef3bdc4e-50f9-409f-8000-376caf599ea8'), 'ТААЛАЙБЕКОВ САИД ВАСИЛЬЕВИЧ', 'said_taalajbekov2168028@yandex.ru', 'с. Шама\\nы, пер. Горняцкий, д. 87 к. 71, 596500', 'm', '1984-09-26', '+7 794 642 00 66')\n",
      "(UUID('59efd7f7-a877-44fc-8000-3a8e14362fef'), 'БОЕВА ФАМ АЛЕКСАНДРОВНА огли АЛЕКСАНДРОВНА', 'fam_boeva4887556@example.org', 'д. Бузулук, ш. Фурманова, д. 49, 661864', 'f', '1955-06-10', '+7 (187) 140-8193')\n",
      "(UUID('c75be521-ba4d-4b19-8000-3b24953d3a30'), 'ЛОМОВ ЛУИДЖИ МАМАЗАКИРОВИЧ', 'luidzhi_lomov1260807@example.org', 'клх Соловки, алл. Ленина, д. 7 к. 21, 173105', 'm', '1981-08-19', '+7 (075) 011-o598')\n",
      "(UUID('d2e660b0-e4cd-46fc-8000-41a611fd0051'), 'КОВАЛЕВСКАЯ огли КСЕНИЯ НИКОЛАЕВНА', 'ksenija_kovalevskaja4439418@example.org', 'с. Малоярославец, аол. Театральнач, д. 1/2 стр. 8, 732946', 'f', '1978-05-08', '+7 (so4) 240-s3-13')\n",
      "(UUID('a4b8a5c8-da26-4d01-8000-461f3ab1ae3a'), 'КАРГАПОЛОВА СЮЗАННА БОЛОТБЕКОВНА', 'sjuzanna_kargapolova21103@example.com', 'с. Кашхатау, наб. Розы Люксембург, д. 71 к. 7, 488242', 'f', '1955-07-20', '8 (610) 200-5243')\n"
     ]
    }
   ],
   "execution_count": 47
  },
  {
   "metadata": {
    "ExecuteTime": {
     "end_time": "2024-09-28T11:26:04.658936Z",
     "start_time": "2024-09-28T11:26:03.429293Z"
    }
   },
   "cell_type": "code",
   "source": [
    "from clickhouse_driver import Client\n",
    "\n",
    "# Подключаемся к ClickHouse\n",
    "client = Client(host=\"localhost\", port=9000, user=\"default\", password=\"\", database=\"default\")\n",
    "\n",
    "# Извлекаем уникальные email из первой таблицы\n",
    "emails = client.execute(\"SELECT DISTINCT email FROM table_dataset1\")\n",
    "\n",
    "# Итеративно извлекаем uid из каждой таблицы\n",
    "for email in emails:\n",
    "    email = email[0]\n",
    "\n",
    "    uid1 = client.execute(f\"SELECT uid FROM table_dataset1 WHERE email = '{email}'\")\n",
    "    uid2 = client.execute(f\"SELECT uid FROM table_dataset3 WHERE email = '{email}'\")\n",
    "\n",
    "    # Если uid найден, добавляем их в новую таблицу\n",
    "    if uid1 and uid2:\n",
    "        client.execute(\n",
    "            \"INSERT INTO table_results (id_is1, id_is2, id_is3) VALUES\", [([uid1[0][0]], [uid2[0][0]], [uid2[0][0]])]\n",
    "        )\n",
    "\n",
    "\n",
    "print(\"Данные успешно записаны в новую таблицу.\")"
   ],
   "id": "59c86a54878e40c3",
   "outputs": [
    {
     "ename": "KeyboardInterrupt",
     "evalue": "",
     "output_type": "error",
     "traceback": [
      "\u001b[0;31m---------------------------------------------------------------------------\u001b[0m",
      "\u001b[0;31mKeyboardInterrupt\u001b[0m                         Traceback (most recent call last)",
      "Cell \u001b[0;32mIn[49], line 7\u001b[0m\n\u001b[1;32m      4\u001b[0m client \u001b[38;5;241m=\u001b[39m Client(host\u001b[38;5;241m=\u001b[39m\u001b[38;5;124m'\u001b[39m\u001b[38;5;124mlocalhost\u001b[39m\u001b[38;5;124m'\u001b[39m, port\u001b[38;5;241m=\u001b[39m\u001b[38;5;241m9000\u001b[39m, user\u001b[38;5;241m=\u001b[39m\u001b[38;5;124m'\u001b[39m\u001b[38;5;124mdefault\u001b[39m\u001b[38;5;124m'\u001b[39m, password\u001b[38;5;241m=\u001b[39m\u001b[38;5;124m'\u001b[39m\u001b[38;5;124m'\u001b[39m, database\u001b[38;5;241m=\u001b[39m\u001b[38;5;124m'\u001b[39m\u001b[38;5;124mdefault\u001b[39m\u001b[38;5;124m'\u001b[39m)\n\u001b[1;32m      6\u001b[0m \u001b[38;5;66;03m# Извлекаем уникальные email из первой таблицы\u001b[39;00m\n\u001b[0;32m----> 7\u001b[0m emails \u001b[38;5;241m=\u001b[39m \u001b[43mclient\u001b[49m\u001b[38;5;241;43m.\u001b[39;49m\u001b[43mexecute\u001b[49m\u001b[43m(\u001b[49m\u001b[38;5;124;43m'\u001b[39;49m\u001b[38;5;124;43mSELECT DISTINCT email FROM table_dataset1\u001b[39;49m\u001b[38;5;124;43m'\u001b[39;49m\u001b[43m)\u001b[49m\n\u001b[1;32m      9\u001b[0m \u001b[38;5;66;03m# Итеративно извлекаем uid из каждой таблицы\u001b[39;00m\n\u001b[1;32m     10\u001b[0m \u001b[38;5;28;01mfor\u001b[39;00m email \u001b[38;5;129;01min\u001b[39;00m emails:\n",
      "File \u001b[0;32m~/.cache/pypoetry/virtualenvs/it-inno-hack-B2QGFA0Q-py3.12/lib/python3.12/site-packages/clickhouse_driver/client.py:382\u001b[0m, in \u001b[0;36mClient.execute\u001b[0;34m(self, query, params, with_column_types, external_tables, query_id, settings, types_check, columnar)\u001b[0m\n\u001b[1;32m    376\u001b[0m     rv \u001b[38;5;241m=\u001b[39m \u001b[38;5;28mself\u001b[39m\u001b[38;5;241m.\u001b[39mprocess_insert_query(\n\u001b[1;32m    377\u001b[0m         query, params, external_tables\u001b[38;5;241m=\u001b[39mexternal_tables,\n\u001b[1;32m    378\u001b[0m         query_id\u001b[38;5;241m=\u001b[39mquery_id, types_check\u001b[38;5;241m=\u001b[39mtypes_check,\n\u001b[1;32m    379\u001b[0m         columnar\u001b[38;5;241m=\u001b[39mcolumnar\n\u001b[1;32m    380\u001b[0m     )\n\u001b[1;32m    381\u001b[0m \u001b[38;5;28;01melse\u001b[39;00m:\n\u001b[0;32m--> 382\u001b[0m     rv \u001b[38;5;241m=\u001b[39m \u001b[38;5;28;43mself\u001b[39;49m\u001b[38;5;241;43m.\u001b[39;49m\u001b[43mprocess_ordinary_query\u001b[49m\u001b[43m(\u001b[49m\n\u001b[1;32m    383\u001b[0m \u001b[43m        \u001b[49m\u001b[43mquery\u001b[49m\u001b[43m,\u001b[49m\u001b[43m \u001b[49m\u001b[43mparams\u001b[49m\u001b[38;5;241;43m=\u001b[39;49m\u001b[43mparams\u001b[49m\u001b[43m,\u001b[49m\u001b[43m \u001b[49m\u001b[43mwith_column_types\u001b[49m\u001b[38;5;241;43m=\u001b[39;49m\u001b[43mwith_column_types\u001b[49m\u001b[43m,\u001b[49m\n\u001b[1;32m    384\u001b[0m \u001b[43m        \u001b[49m\u001b[43mexternal_tables\u001b[49m\u001b[38;5;241;43m=\u001b[39;49m\u001b[43mexternal_tables\u001b[49m\u001b[43m,\u001b[49m\n\u001b[1;32m    385\u001b[0m \u001b[43m        \u001b[49m\u001b[43mquery_id\u001b[49m\u001b[38;5;241;43m=\u001b[39;49m\u001b[43mquery_id\u001b[49m\u001b[43m,\u001b[49m\u001b[43m \u001b[49m\u001b[43mtypes_check\u001b[49m\u001b[38;5;241;43m=\u001b[39;49m\u001b[43mtypes_check\u001b[49m\u001b[43m,\u001b[49m\n\u001b[1;32m    386\u001b[0m \u001b[43m        \u001b[49m\u001b[43mcolumnar\u001b[49m\u001b[38;5;241;43m=\u001b[39;49m\u001b[43mcolumnar\u001b[49m\n\u001b[1;32m    387\u001b[0m \u001b[43m    \u001b[49m\u001b[43m)\u001b[49m\n\u001b[1;32m    388\u001b[0m \u001b[38;5;28mself\u001b[39m\u001b[38;5;241m.\u001b[39mlast_query\u001b[38;5;241m.\u001b[39mstore_elapsed(time() \u001b[38;5;241m-\u001b[39m start_time)\n\u001b[1;32m    389\u001b[0m \u001b[38;5;28;01mreturn\u001b[39;00m rv\n",
      "File \u001b[0;32m~/.cache/pypoetry/virtualenvs/it-inno-hack-B2QGFA0Q-py3.12/lib/python3.12/site-packages/clickhouse_driver/client.py:580\u001b[0m, in \u001b[0;36mClient.process_ordinary_query\u001b[0;34m(self, query, params, with_column_types, external_tables, query_id, types_check, columnar)\u001b[0m\n\u001b[1;32m    577\u001b[0m \u001b[38;5;28mself\u001b[39m\u001b[38;5;241m.\u001b[39mconnection\u001b[38;5;241m.\u001b[39msend_query(query, query_id\u001b[38;5;241m=\u001b[39mquery_id, params\u001b[38;5;241m=\u001b[39mparams)\n\u001b[1;32m    578\u001b[0m \u001b[38;5;28mself\u001b[39m\u001b[38;5;241m.\u001b[39mconnection\u001b[38;5;241m.\u001b[39msend_external_tables(external_tables,\n\u001b[1;32m    579\u001b[0m                                      types_check\u001b[38;5;241m=\u001b[39mtypes_check)\n\u001b[0;32m--> 580\u001b[0m \u001b[38;5;28;01mreturn\u001b[39;00m \u001b[38;5;28;43mself\u001b[39;49m\u001b[38;5;241;43m.\u001b[39;49m\u001b[43mreceive_result\u001b[49m\u001b[43m(\u001b[49m\u001b[43mwith_column_types\u001b[49m\u001b[38;5;241;43m=\u001b[39;49m\u001b[43mwith_column_types\u001b[49m\u001b[43m,\u001b[49m\n\u001b[1;32m    581\u001b[0m \u001b[43m                           \u001b[49m\u001b[43mcolumnar\u001b[49m\u001b[38;5;241;43m=\u001b[39;49m\u001b[43mcolumnar\u001b[49m\u001b[43m)\u001b[49m\n",
      "File \u001b[0;32m~/.cache/pypoetry/virtualenvs/it-inno-hack-B2QGFA0Q-py3.12/lib/python3.12/site-packages/clickhouse_driver/client.py:212\u001b[0m, in \u001b[0;36mClient.receive_result\u001b[0;34m(self, with_column_types, progress, columnar)\u001b[0m\n\u001b[1;32m    208\u001b[0m \u001b[38;5;28;01melse\u001b[39;00m:\n\u001b[1;32m    209\u001b[0m     result \u001b[38;5;241m=\u001b[39m \u001b[38;5;28mself\u001b[39m\u001b[38;5;241m.\u001b[39mquery_result_cls(\n\u001b[1;32m    210\u001b[0m         gen, with_column_types\u001b[38;5;241m=\u001b[39mwith_column_types, columnar\u001b[38;5;241m=\u001b[39mcolumnar\n\u001b[1;32m    211\u001b[0m     )\n\u001b[0;32m--> 212\u001b[0m     \u001b[38;5;28;01mreturn\u001b[39;00m \u001b[43mresult\u001b[49m\u001b[38;5;241;43m.\u001b[39;49m\u001b[43mget_result\u001b[49m\u001b[43m(\u001b[49m\u001b[43m)\u001b[49m\n",
      "File \u001b[0;32m~/.cache/pypoetry/virtualenvs/it-inno-hack-B2QGFA0Q-py3.12/lib/python3.12/site-packages/clickhouse_driver/result.py:51\u001b[0m, in \u001b[0;36mQueryResult.get_result\u001b[0;34m(self)\u001b[0m\n\u001b[1;32m     46\u001b[0m \u001b[38;5;250m\u001b[39m\u001b[38;5;124;03m\"\"\"\u001b[39;00m\n\u001b[1;32m     47\u001b[0m \u001b[38;5;124;03m:return: stored query result.\u001b[39;00m\n\u001b[1;32m     48\u001b[0m \u001b[38;5;124;03m\"\"\"\u001b[39;00m\n\u001b[1;32m     50\u001b[0m \u001b[38;5;28;01mfor\u001b[39;00m packet \u001b[38;5;129;01min\u001b[39;00m \u001b[38;5;28mself\u001b[39m\u001b[38;5;241m.\u001b[39mpacket_generator:\n\u001b[0;32m---> 51\u001b[0m     \u001b[38;5;28;43mself\u001b[39;49m\u001b[38;5;241;43m.\u001b[39;49m\u001b[43mstore\u001b[49m\u001b[43m(\u001b[49m\u001b[43mpacket\u001b[49m\u001b[43m)\u001b[49m\n\u001b[1;32m     53\u001b[0m data \u001b[38;5;241m=\u001b[39m \u001b[38;5;28mself\u001b[39m\u001b[38;5;241m.\u001b[39mdata\n\u001b[1;32m     54\u001b[0m \u001b[38;5;28;01mif\u001b[39;00m \u001b[38;5;28mself\u001b[39m\u001b[38;5;241m.\u001b[39mcolumnar:\n",
      "File \u001b[0;32m~/.cache/pypoetry/virtualenvs/it-inno-hack-B2QGFA0Q-py3.12/lib/python3.12/site-packages/clickhouse_driver/result.py:40\u001b[0m, in \u001b[0;36mQueryResult.store\u001b[0;34m(self, packet)\u001b[0m\n\u001b[1;32m     38\u001b[0m             \u001b[38;5;28mself\u001b[39m\u001b[38;5;241m.\u001b[39mdata \u001b[38;5;241m=\u001b[39m [\u001b[38;5;28mlist\u001b[39m(c) \u001b[38;5;28;01mfor\u001b[39;00m c \u001b[38;5;129;01min\u001b[39;00m columns]\n\u001b[1;32m     39\u001b[0m     \u001b[38;5;28;01melse\u001b[39;00m:\n\u001b[0;32m---> 40\u001b[0m         \u001b[38;5;28mself\u001b[39m\u001b[38;5;241m.\u001b[39mdata\u001b[38;5;241m.\u001b[39mextend(\u001b[43mblock\u001b[49m\u001b[38;5;241;43m.\u001b[39;49m\u001b[43mget_rows\u001b[49m\u001b[43m(\u001b[49m\u001b[43m)\u001b[49m)\n\u001b[1;32m     42\u001b[0m \u001b[38;5;28;01melif\u001b[39;00m \u001b[38;5;129;01mnot\u001b[39;00m \u001b[38;5;28mself\u001b[39m\u001b[38;5;241m.\u001b[39mcolumns_with_types:\n\u001b[1;32m     43\u001b[0m     \u001b[38;5;28mself\u001b[39m\u001b[38;5;241m.\u001b[39mcolumns_with_types \u001b[38;5;241m=\u001b[39m block\u001b[38;5;241m.\u001b[39mcolumns_with_types\n",
      "File \u001b[0;32m~/.cache/pypoetry/virtualenvs/it-inno-hack-B2QGFA0Q-py3.12/lib/python3.12/site-packages/clickhouse_driver/block.py:89\u001b[0m, in \u001b[0;36mColumnOrientedBlock.get_rows\u001b[0;34m(self)\u001b[0m\n\u001b[1;32m     88\u001b[0m \u001b[38;5;28;01mdef\u001b[39;00m \u001b[38;5;21mget_rows\u001b[39m(\u001b[38;5;28mself\u001b[39m):\n\u001b[0;32m---> 89\u001b[0m     \u001b[38;5;28;01mreturn\u001b[39;00m \u001b[38;5;28;43mself\u001b[39;49m\u001b[38;5;241;43m.\u001b[39;49m\u001b[43mtransposed\u001b[49m\u001b[43m(\u001b[49m\u001b[43m)\u001b[49m\n",
      "File \u001b[0;32m~/.cache/pypoetry/virtualenvs/it-inno-hack-B2QGFA0Q-py3.12/lib/python3.12/site-packages/clickhouse_driver/block.py:65\u001b[0m, in \u001b[0;36mBaseBlock.transposed\u001b[0;34m(self)\u001b[0m\n\u001b[1;32m     64\u001b[0m \u001b[38;5;28;01mdef\u001b[39;00m \u001b[38;5;21mtransposed\u001b[39m(\u001b[38;5;28mself\u001b[39m):\n\u001b[0;32m---> 65\u001b[0m     \u001b[38;5;28;01mreturn\u001b[39;00m \u001b[38;5;28;43mlist\u001b[39;49m\u001b[43m(\u001b[49m\u001b[38;5;28;43mzip\u001b[39;49m\u001b[43m(\u001b[49m\u001b[38;5;241;43m*\u001b[39;49m\u001b[38;5;28;43mself\u001b[39;49m\u001b[38;5;241;43m.\u001b[39;49m\u001b[43mdata\u001b[49m\u001b[43m)\u001b[49m\u001b[43m)\u001b[49m\n",
      "\u001b[0;31mKeyboardInterrupt\u001b[0m: "
     ]
    }
   ],
   "execution_count": 49
  },
  {
   "metadata": {
    "ExecuteTime": {
     "end_time": "2024-09-28T11:18:47.153153Z",
     "start_time": "2024-09-28T11:18:47.148321Z"
    }
   },
   "cell_type": "code",
   "outputs": [],
   "execution_count": 43,
   "source": [
    "import uuid\n",
    "\n",
    "uuid_array = [uuid.uuid4() for _ in range(1)]  # Generate an array of 3 UUIDs"
   ],
   "id": "32f8c949a32c29d0"
  },
  {
   "metadata": {},
   "cell_type": "code",
   "outputs": [],
   "source": [
    "client.execute(\"INSERT INTO table_results (id_is1, id_is2, id_is3) VALUES\", [(uuid_array, uuid_array, uuid_array)])"
   ],
   "id": "7ba2685dbf17ffa6",
   "execution_count": null
  },
  {
   "metadata": {
    "ExecuteTime": {
     "end_time": "2024-09-28T12:21:04.680758Z",
     "start_time": "2024-09-28T12:21:04.671841Z"
    }
   },
   "cell_type": "code",
   "source": "type(uid1[0][0])",
   "id": "14ee9cb3828c8bf9",
   "outputs": [
    {
     "data": {
      "text/plain": [
       "uuid.UUID"
      ]
     },
     "execution_count": 51,
     "metadata": {},
     "output_type": "execute_result"
    }
   ],
   "execution_count": 51
  },
  {
   "metadata": {},
   "cell_type": "code",
   "outputs": [],
   "execution_count": null,
   "source": "",
   "id": "354f2b328fd5f37b"
  }
 ],
 "metadata": {
  "kernelspec": {
   "display_name": "Python 3",
   "language": "python",
   "name": "python3"
  },
  "language_info": {
   "codemirror_mode": {
    "name": "ipython",
    "version": 2
   },
   "file_extension": ".py",
   "mimetype": "text/x-python",
   "name": "python",
   "nbconvert_exporter": "python",
   "pygments_lexer": "ipython2",
   "version": "2.7.6"
  }
 },
 "nbformat": 4,
 "nbformat_minor": 5
}
