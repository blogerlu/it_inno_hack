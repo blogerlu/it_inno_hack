{
 "cells": [
  {
   "cell_type": "code",
   "id": "initial_id",
   "metadata": {
    "collapsed": true,
    "ExecuteTime": {
     "end_time": "2024-09-28T10:33:40.205375Z",
     "start_time": "2024-09-28T10:33:39.919880Z"
    }
   },
   "source": [
    "from clickhouse_driver import Client"
   ],
   "outputs": [],
   "execution_count": 1
  },
  {
   "metadata": {
    "ExecuteTime": {
     "end_time": "2024-09-28T10:35:44.414626Z",
     "start_time": "2024-09-28T10:35:44.381124Z"
    }
   },
   "cell_type": "code",
   "source": [
    "client = Client(host=\"localhost\", port=9000, user=\"default\", password=\"\", database=\"default\")\n",
    "\n",
    "# Выполнение запроса\n",
    "query = \"SELECT * FROM table_dataset1 LIMIT 10\"\n",
    "result = client.execute(query)\n",
    "\n",
    "# Вывод результатов\n",
    "for row in result:\n",
    "    print(row)\n",
    "\n",
    "# Закрытие подключения (не обязательно, так как клиент автоматически закрывает соединение при завершении)\n",
    "client.disconnect()"
   ],
   "id": "b2403beee0f5e4e3",
   "outputs": [
    {
     "name": "stdout",
     "output_type": "stream",
     "text": [
      "(UUID('912d4e55-bf5f-4e3f-8000-030f61d5ef78'), 'СПАТМЕВА МЦХАРАМЖОН НИКОЛАЕВНА', 'muharamzhon_spataeva1753379@gmail.com', 'ст. Валаам, алл. Энергетиков, д. 3 стр. 1/8, 756910', 'f', '1956-11-18', '+7 (296) 840-3538')\n",
      "(UUID('72272a61-4e64-4211-8000-1f1e099ba3ae'), 'МУХИДИНОВ РУСЛОНБЕК АНДРЕЕВИЧ огли АНДРЕЕВИЧ', 'ruslonbek_muhidinov2110104@example', 'ст. Нижнекамск, ш. Вахитова, д. 4, 021862', 'm', '2000-08-15', '8 760 124 1525')\n",
      "(UUID('1e47adde-649a-417f-8000-267f2c7b5f6d'), 'БАТИКАН ИЛЬИНИНА НИКОЛАЕВНА', 'ilinina_batikan2801052@bk.ru', 'д. Александров Гай, пр. Ломоносова, д. 3/7 к. 6, 775447', 'f', '1898-08-03', '+7 75i 030 65 79')\n",
      "(UUID('4cbbc248-ea52-455e-8000-298598080b96'), 'ТЕМИРОВ ВИЛЬЯМ ТОЮНБЕК0ВИЧ', 'vokjam;temirov791637zbk.ru', 'г. Йошкар-Ола, ш. 70 лет Октября, д. 544 к. 5/8, 068319', 'm', '1946', '+7 132 405 61 37')\n",
      "(UUID('a5f1e7d7-d84d-43a1-8000-302afd930d59'), 'БАРАНОВА Оглы ОКСАНА СИГЛИНДЕ', 'oksana_baranova6574476@example.com', 'клх Одинцово, ш. Халтурина, д. 94 стр. 278, 485423', 'f', '2005-05-16', '+7 (034) 557-73-65')\n",
      "(UUID('ef3bdc4e-50f9-409f-8000-376caf599ea8'), 'ТААЛАЙБЕКОВ САИД ВАСИЛЬЕВИЧ', 'said_taalajbekov2168028@yandex.ru', 'с. Шама\\nы, пер. Горняцкий, д. 87 к. 71, 596500', 'm', '1984-09-26', '+7 794 642 00 66')\n",
      "(UUID('59efd7f7-a877-44fc-8000-3a8e14362fef'), 'БОЕВА ФАМ АЛЕКСАНДРОВНА огли АЛЕКСАНДРОВНА', 'fam_boeva4887556@example.org', 'д. Бузулук, ш. Фурманова, д. 49, 661864', 'f', '1955-06-10', '+7 (187) 140-8193')\n",
      "(UUID('c75be521-ba4d-4b19-8000-3b24953d3a30'), 'ЛОМОВ ЛУИДЖИ МАМАЗАКИРОВИЧ', 'luidzhi_lomov1260807@example.org', 'клх Соловки, алл. Ленина, д. 7 к. 21, 173105', 'm', '1981-08-19', '+7 (075) 011-o598')\n",
      "(UUID('d2e660b0-e4cd-46fc-8000-41a611fd0051'), 'КОВАЛЕВСКАЯ огли КСЕНИЯ НИКОЛАЕВНА', 'ksenija_kovalevskaja4439418@example.org', 'с. Малоярославец, аол. Театральнач, д. 1/2 стр. 8, 732946', 'f', '1978-05-08', '+7 (so4) 240-s3-13')\n",
      "(UUID('a4b8a5c8-da26-4d01-8000-461f3ab1ae3a'), 'КАРГАПОЛОВА СЮЗАННА БОЛОТБЕКОВНА', 'sjuzanna_kargapolova21103@example.com', 'с. Кашхатау, наб. Розы Люксембург, д. 71 к. 7, 488242', 'f', '1955-07-20', '8 (610) 200-5243')\n"
     ]
    }
   ],
   "execution_count": 3
  }
 ],
 "metadata": {
  "kernelspec": {
   "display_name": "Python 3",
   "language": "python",
   "name": "python3"
  },
  "language_info": {
   "codemirror_mode": {
    "name": "ipython",
    "version": 2
   },
   "file_extension": ".py",
   "mimetype": "text/x-python",
   "name": "python",
   "nbconvert_exporter": "python",
   "pygments_lexer": "ipython2",
   "version": "2.7.6"
  }
 },
 "nbformat": 4,
 "nbformat_minor": 5
}
